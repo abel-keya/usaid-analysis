{
  "nbformat": 4,
  "nbformat_minor": 0,
  "metadata": {
    "colab": {
      "name": "USAID_WK5_PROJECT.ipynb",
      "provenance": [],
      "collapsed_sections": [],
      "toc_visible": true
    },
    "kernelspec": {
      "name": "python3",
      "display_name": "Python 3"
    },
    "accelerator": "TPU"
  },
  "cells": [
    {
      "cell_type": "markdown",
      "metadata": {
        "id": "R8zAiVQwiL-k",
        "colab_type": "text"
      },
      "source": [
        "#USAID FUNDING ANALYSIS\n",
        "The USAID has been gving funding to entrepreneurs across the world  in different sectors. Most entrepreneurs do not know their viability because they lack information on the most funded sectors, regions and the chances of them getting another loan if they borrow a second time.\n",
        "Below is an analysis of the Development_Credit_Authority__DCA__Data_Set__Loan_Transactions.csv dataset to determine the funding they give, the most funded regions and the mosts funded business sectors.\n",
        "\n"
      ]
    },
    {
      "cell_type": "markdown",
      "metadata": {
        "id": "sWTKOFGLvGSh",
        "colab_type": "text"
      },
      "source": [
        "# IMPORTING THE LIBRARIES"
      ]
    },
    {
      "cell_type": "code",
      "metadata": {
        "id": "zVcdVqr3vNad",
        "colab_type": "code",
        "colab": {}
      },
      "source": [
        "# Importing pandas module\n",
        "import pandas as pd\n",
        "# Importing numpy module\n",
        "import numpy as np\n",
        "# Importing datetime\n",
        "import datetime"
      ],
      "execution_count": 0,
      "outputs": []
    },
    {
      "cell_type": "markdown",
      "metadata": {
        "id": "mAgQqbl9vVcs",
        "colab_type": "text"
      },
      "source": [
        "# READING THE DATASET FILE"
      ]
    },
    {
      "cell_type": "code",
      "metadata": {
        "id": "oLFZl248vd9A",
        "colab_type": "code",
        "colab": {}
      },
      "source": [
        "# Reading the csv file\n",
        "data = 'Development_Credit_Authority__DCA__Data_Set__Loan_Transactions (2).csv'\n",
        "df = pd.read_csv(data, encoding= 'latin1')"
      ],
      "execution_count": 0,
      "outputs": []
    },
    {
      "cell_type": "code",
      "metadata": {
        "id": "YyZj-Vzcvhj1",
        "colab_type": "code",
        "outputId": "8b57c84f-da78-4f9c-ab07-9cd30064b209",
        "colab": {
          "base_uri": "https://localhost:8080/",
          "height": 496
        }
      },
      "source": [
        "# Showing the first five rows of the first dataset \n",
        "df.head()"
      ],
      "execution_count": 0,
      "outputs": [
        {
          "output_type": "execute_result",
          "data": {
            "text/html": [
              "<div>\n",
              "<style scoped>\n",
              "    .dataframe tbody tr th:only-of-type {\n",
              "        vertical-align: middle;\n",
              "    }\n",
              "\n",
              "    .dataframe tbody tr th {\n",
              "        vertical-align: top;\n",
              "    }\n",
              "\n",
              "    .dataframe thead th {\n",
              "        text-align: right;\n",
              "    }\n",
              "</style>\n",
              "<table border=\"1\" class=\"dataframe\">\n",
              "  <thead>\n",
              "    <tr style=\"text-align: right;\">\n",
              "      <th></th>\n",
              "      <th>Guarantee Number</th>\n",
              "      <th>Transaction Report ID</th>\n",
              "      <th>Guarantee Country Name</th>\n",
              "      <th>Amount (USD)</th>\n",
              "      <th>Currency Name</th>\n",
              "      <th>Disbursement Date</th>\n",
              "      <th>End Date</th>\n",
              "      <th>Business Sector</th>\n",
              "      <th>City/Town</th>\n",
              "      <th>State/Province/Region Name</th>\n",
              "      <th>State/Province/Region Code</th>\n",
              "      <th>State/Province/Region Country Name</th>\n",
              "      <th>Region Name</th>\n",
              "      <th>Is Woman Owned?</th>\n",
              "      <th>Is First Time Borrower?</th>\n",
              "      <th>Business Size</th>\n",
              "      <th>Latitude</th>\n",
              "      <th>Longitude</th>\n",
              "    </tr>\n",
              "  </thead>\n",
              "  <tbody>\n",
              "    <tr>\n",
              "      <th>0</th>\n",
              "      <td>099-DCA-09-006A (Asociacion Arariwa)</td>\n",
              "      <td>356191</td>\n",
              "      <td>Worldwide</td>\n",
              "      <td>9.801444e+05</td>\n",
              "      <td>PERU - NUEVO SOL</td>\n",
              "      <td>09/20/2011 12:00:00 AM</td>\n",
              "      <td>09/09/2013 12:00:00 AM</td>\n",
              "      <td>NaN</td>\n",
              "      <td>Cusco</td>\n",
              "      <td>Cusco</td>\n",
              "      <td>PE08</td>\n",
              "      <td>Peru</td>\n",
              "      <td>LATIN AMERICA &amp; THE CARIBBEAN</td>\n",
              "      <td>0</td>\n",
              "      <td>1</td>\n",
              "      <td>&gt;100</td>\n",
              "      <td>-13.518333</td>\n",
              "      <td>-71.978056</td>\n",
              "    </tr>\n",
              "    <tr>\n",
              "      <th>1</th>\n",
              "      <td>099-DCA-09-006B (Pro Mujer Peru)</td>\n",
              "      <td>331620</td>\n",
              "      <td>Worldwide</td>\n",
              "      <td>1.960289e+06</td>\n",
              "      <td>PERU - NUEVO SOL</td>\n",
              "      <td>09/20/2011 12:00:00 AM</td>\n",
              "      <td>09/04/2014 12:00:00 AM</td>\n",
              "      <td>NaN</td>\n",
              "      <td>Puno</td>\n",
              "      <td>Puno</td>\n",
              "      <td>PE21</td>\n",
              "      <td>Peru</td>\n",
              "      <td>LATIN AMERICA &amp; THE CARIBBEAN</td>\n",
              "      <td>0</td>\n",
              "      <td>0</td>\n",
              "      <td>&gt;100</td>\n",
              "      <td>-15.000000</td>\n",
              "      <td>-70.000000</td>\n",
              "    </tr>\n",
              "    <tr>\n",
              "      <th>2</th>\n",
              "      <td>099-DCA-09-006C (ProEmpresa)</td>\n",
              "      <td>349835</td>\n",
              "      <td>Worldwide</td>\n",
              "      <td>2.007491e+06</td>\n",
              "      <td>PERU - NUEVO SOL</td>\n",
              "      <td>01/18/2012 12:00:00 AM</td>\n",
              "      <td>08/05/2013 12:00:00 AM</td>\n",
              "      <td>NaN</td>\n",
              "      <td>Lima</td>\n",
              "      <td>Lima</td>\n",
              "      <td>PE15</td>\n",
              "      <td>Peru</td>\n",
              "      <td>LATIN AMERICA &amp; THE CARIBBEAN</td>\n",
              "      <td>0</td>\n",
              "      <td>1</td>\n",
              "      <td>&gt;100</td>\n",
              "      <td>-12.000000</td>\n",
              "      <td>-76.833333</td>\n",
              "    </tr>\n",
              "    <tr>\n",
              "      <th>3</th>\n",
              "      <td>099-DCA-09-006D (Pro Mujer Peru)</td>\n",
              "      <td>385807</td>\n",
              "      <td>Worldwide</td>\n",
              "      <td>1.030888e+06</td>\n",
              "      <td>PERU - NUEVO SOL</td>\n",
              "      <td>04/11/2012 12:00:00 AM</td>\n",
              "      <td>03/31/2015 12:00:00 AM</td>\n",
              "      <td>NaN</td>\n",
              "      <td>Puno</td>\n",
              "      <td>NaN</td>\n",
              "      <td>NaN</td>\n",
              "      <td>NaN</td>\n",
              "      <td>NaN</td>\n",
              "      <td>0</td>\n",
              "      <td>0</td>\n",
              "      <td>&gt;100</td>\n",
              "      <td>NaN</td>\n",
              "      <td>NaN</td>\n",
              "    </tr>\n",
              "    <tr>\n",
              "      <th>4</th>\n",
              "      <td>099-DCA-09-006F (COCLA)</td>\n",
              "      <td>473058</td>\n",
              "      <td>Worldwide</td>\n",
              "      <td>1.780000e+06</td>\n",
              "      <td>UNITED STATES - DOLLAR</td>\n",
              "      <td>08/15/2012 12:00:00 AM</td>\n",
              "      <td>08/20/2014 12:00:00 AM</td>\n",
              "      <td>NaN</td>\n",
              "      <td>Cusco</td>\n",
              "      <td>Cusco</td>\n",
              "      <td>PE08</td>\n",
              "      <td>Peru</td>\n",
              "      <td>LATIN AMERICA &amp; THE CARIBBEAN</td>\n",
              "      <td>0</td>\n",
              "      <td>0</td>\n",
              "      <td>NaN</td>\n",
              "      <td>-13.518333</td>\n",
              "      <td>-71.978056</td>\n",
              "    </tr>\n",
              "  </tbody>\n",
              "</table>\n",
              "</div>"
            ],
            "text/plain": [
              "                       Guarantee Number  ...  Longitude\n",
              "0  099-DCA-09-006A (Asociacion Arariwa)  ... -71.978056\n",
              "1      099-DCA-09-006B (Pro Mujer Peru)  ... -70.000000\n",
              "2          099-DCA-09-006C (ProEmpresa)  ... -76.833333\n",
              "3      099-DCA-09-006D (Pro Mujer Peru)  ...        NaN\n",
              "4               099-DCA-09-006F (COCLA)  ... -71.978056\n",
              "\n",
              "[5 rows x 18 columns]"
            ]
          },
          "metadata": {
            "tags": []
          },
          "execution_count": 6
        }
      ]
    },
    {
      "cell_type": "markdown",
      "metadata": {
        "id": "lJXIHpa0vv6c",
        "colab_type": "text"
      },
      "source": [
        "# EXPLORING THE DATASET"
      ]
    },
    {
      "cell_type": "code",
      "metadata": {
        "id": "bNqWcQUFvpin",
        "colab_type": "code",
        "outputId": "95b8a611-a0ad-4709-ce91-d74106c97a70",
        "colab": {
          "base_uri": "https://localhost:8080/",
          "height": 136
        }
      },
      "source": [
        "# Checking the number of columns\n",
        "df.columns"
      ],
      "execution_count": 0,
      "outputs": [
        {
          "output_type": "execute_result",
          "data": {
            "text/plain": [
              "Index(['Guarantee Number', 'Transaction Report ID', 'Guarantee Country Name',\n",
              "       'Amount (USD)', 'Currency Name', 'Disbursement Date', 'End Date',\n",
              "       'Business Sector', 'City/Town', 'State/Province/Region Name',\n",
              "       'State/Province/Region Code', 'State/Province/Region Country Name',\n",
              "       'Region Name', 'Is Woman Owned?', 'Is First Time Borrower?',\n",
              "       'Business Size', 'Latitude', 'Longitude'],\n",
              "      dtype='object')"
            ]
          },
          "metadata": {
            "tags": []
          },
          "execution_count": 7
        }
      ]
    },
    {
      "cell_type": "code",
      "metadata": {
        "id": "_RkWNQAgvtOV",
        "colab_type": "code",
        "outputId": "bd9f0869-7db9-48c9-e64f-69a281e762a0",
        "colab": {
          "base_uri": "https://localhost:8080/",
          "height": 34
        }
      },
      "source": [
        "# Checking the number of rows\n",
        "df.index"
      ],
      "execution_count": 0,
      "outputs": [
        {
          "output_type": "execute_result",
          "data": {
            "text/plain": [
              "RangeIndex(start=0, stop=186545, step=1)"
            ]
          },
          "metadata": {
            "tags": []
          },
          "execution_count": 8
        }
      ]
    },
    {
      "cell_type": "code",
      "metadata": {
        "id": "0Wol67Krv5iK",
        "colab_type": "code",
        "outputId": "c2b60ed6-a26d-44bd-9749-1eb3f1d3bd6c",
        "colab": {
          "base_uri": "https://localhost:8080/",
          "height": 34
        }
      },
      "source": [
        "# Checking the number of rows and columns\n",
        "df.shape"
      ],
      "execution_count": 0,
      "outputs": [
        {
          "output_type": "execute_result",
          "data": {
            "text/plain": [
              "(186545, 18)"
            ]
          },
          "metadata": {
            "tags": []
          },
          "execution_count": 9
        }
      ]
    },
    {
      "cell_type": "code",
      "metadata": {
        "id": "XdhJy1Yjv9HZ",
        "colab_type": "code",
        "outputId": "d16b1420-8808-467e-fe25-247603b20513",
        "colab": {
          "base_uri": "https://localhost:8080/",
          "height": 297
        }
      },
      "source": [
        "# Getting the description of the dataset\n",
        "df.describe()\n"
      ],
      "execution_count": 0,
      "outputs": [
        {
          "output_type": "execute_result",
          "data": {
            "text/html": [
              "<div>\n",
              "<style scoped>\n",
              "    .dataframe tbody tr th:only-of-type {\n",
              "        vertical-align: middle;\n",
              "    }\n",
              "\n",
              "    .dataframe tbody tr th {\n",
              "        vertical-align: top;\n",
              "    }\n",
              "\n",
              "    .dataframe thead th {\n",
              "        text-align: right;\n",
              "    }\n",
              "</style>\n",
              "<table border=\"1\" class=\"dataframe\">\n",
              "  <thead>\n",
              "    <tr style=\"text-align: right;\">\n",
              "      <th></th>\n",
              "      <th>Transaction Report ID</th>\n",
              "      <th>Amount (USD)</th>\n",
              "      <th>Is Woman Owned?</th>\n",
              "      <th>Is First Time Borrower?</th>\n",
              "      <th>Latitude</th>\n",
              "      <th>Longitude</th>\n",
              "    </tr>\n",
              "  </thead>\n",
              "  <tbody>\n",
              "    <tr>\n",
              "      <th>count</th>\n",
              "      <td>186545.000000</td>\n",
              "      <td>1.865450e+05</td>\n",
              "      <td>186545.000000</td>\n",
              "      <td>186545.000000</td>\n",
              "      <td>106799.000000</td>\n",
              "      <td>106799.000000</td>\n",
              "    </tr>\n",
              "    <tr>\n",
              "      <th>mean</th>\n",
              "      <td>329994.621882</td>\n",
              "      <td>1.286414e+04</td>\n",
              "      <td>0.621748</td>\n",
              "      <td>0.720882</td>\n",
              "      <td>6.982566</td>\n",
              "      <td>-43.189297</td>\n",
              "    </tr>\n",
              "    <tr>\n",
              "      <th>std</th>\n",
              "      <td>159847.297026</td>\n",
              "      <td>3.827625e+05</td>\n",
              "      <td>63.448985</td>\n",
              "      <td>47.963299</td>\n",
              "      <td>14.786496</td>\n",
              "      <td>60.076571</td>\n",
              "    </tr>\n",
              "    <tr>\n",
              "      <th>min</th>\n",
              "      <td>18215.000000</td>\n",
              "      <td>0.000000e+00</td>\n",
              "      <td>0.000000</td>\n",
              "      <td>0.000000</td>\n",
              "      <td>-34.822297</td>\n",
              "      <td>-115.181111</td>\n",
              "    </tr>\n",
              "    <tr>\n",
              "      <th>25%</th>\n",
              "      <td>195994.000000</td>\n",
              "      <td>3.861004e+02</td>\n",
              "      <td>0.000000</td>\n",
              "      <td>0.000000</td>\n",
              "      <td>-5.750000</td>\n",
              "      <td>-76.851667</td>\n",
              "    </tr>\n",
              "    <tr>\n",
              "      <th>50%</th>\n",
              "      <td>309041.000000</td>\n",
              "      <td>8.368201e+02</td>\n",
              "      <td>0.000000</td>\n",
              "      <td>0.000000</td>\n",
              "      <td>4.649178</td>\n",
              "      <td>-75.442749</td>\n",
              "    </tr>\n",
              "    <tr>\n",
              "      <th>75%</th>\n",
              "      <td>468427.000000</td>\n",
              "      <td>2.001601e+03</td>\n",
              "      <td>0.000000</td>\n",
              "      <td>1.000000</td>\n",
              "      <td>17.964543</td>\n",
              "      <td>7.469140</td>\n",
              "    </tr>\n",
              "    <tr>\n",
              "      <th>max</th>\n",
              "      <td>658846.000000</td>\n",
              "      <td>9.500000e+07</td>\n",
              "      <td>21566.000000</td>\n",
              "      <td>10065.000000</td>\n",
              "      <td>62.366667</td>\n",
              "      <td>150.216667</td>\n",
              "    </tr>\n",
              "  </tbody>\n",
              "</table>\n",
              "</div>"
            ],
            "text/plain": [
              "       Transaction Report ID  Amount (USD)  ...       Latitude      Longitude\n",
              "count          186545.000000  1.865450e+05  ...  106799.000000  106799.000000\n",
              "mean           329994.621882  1.286414e+04  ...       6.982566     -43.189297\n",
              "std            159847.297026  3.827625e+05  ...      14.786496      60.076571\n",
              "min             18215.000000  0.000000e+00  ...     -34.822297    -115.181111\n",
              "25%            195994.000000  3.861004e+02  ...      -5.750000     -76.851667\n",
              "50%            309041.000000  8.368201e+02  ...       4.649178     -75.442749\n",
              "75%            468427.000000  2.001601e+03  ...      17.964543       7.469140\n",
              "max            658846.000000  9.500000e+07  ...      62.366667     150.216667\n",
              "\n",
              "[8 rows x 6 columns]"
            ]
          },
          "metadata": {
            "tags": []
          },
          "execution_count": 10
        }
      ]
    },
    {
      "cell_type": "code",
      "metadata": {
        "id": "8e9r9zQCwALI",
        "colab_type": "code",
        "outputId": "3a9736a9-5595-4b52-9e36-e690ecaabda1",
        "colab": {
          "base_uri": "https://localhost:8080/",
          "height": 408
        }
      },
      "source": [
        "# Getting the information about the dataset\n",
        "df.info()"
      ],
      "execution_count": 0,
      "outputs": [
        {
          "output_type": "stream",
          "text": [
            "<class 'pandas.core.frame.DataFrame'>\n",
            "RangeIndex: 186545 entries, 0 to 186544\n",
            "Data columns (total 18 columns):\n",
            "Guarantee Number                      186545 non-null object\n",
            "Transaction Report ID                 186545 non-null int64\n",
            "Guarantee Country Name                186545 non-null object\n",
            "Amount (USD)                          186545 non-null float64\n",
            "Currency Name                         186545 non-null object\n",
            "Disbursement Date                     186545 non-null object\n",
            "End Date                              186545 non-null object\n",
            "Business Sector                       178564 non-null object\n",
            "City/Town                             146253 non-null object\n",
            "State/Province/Region Name            134854 non-null object\n",
            "State/Province/Region Code            134854 non-null object\n",
            "State/Province/Region Country Name    134854 non-null object\n",
            "Region Name                           134854 non-null object\n",
            "Is Woman Owned?                       186545 non-null int64\n",
            "Is First Time Borrower?               186545 non-null int64\n",
            "Business Size                         39238 non-null object\n",
            "Latitude                              106799 non-null float64\n",
            "Longitude                             106799 non-null float64\n",
            "dtypes: float64(3), int64(3), object(12)\n",
            "memory usage: 25.6+ MB\n"
          ],
          "name": "stdout"
        }
      ]
    },
    {
      "cell_type": "markdown",
      "metadata": {
        "id": "axcXipcKwCLt",
        "colab_type": "text"
      },
      "source": [
        "# DATA CLEANING"
      ]
    },
    {
      "cell_type": "markdown",
      "metadata": {
        "id": "y9UiqBA8wMh-",
        "colab_type": "text"
      },
      "source": [
        "# Validity"
      ]
    },
    {
      "cell_type": "code",
      "metadata": {
        "id": "3uMFWRB46cuP",
        "colab_type": "code",
        "colab": {}
      },
      "source": [
        "# Deleting unnecesarry data\n",
        "df.drop('Business Size', axis=1, inplace=True)"
      ],
      "execution_count": 0,
      "outputs": []
    },
    {
      "cell_type": "code",
      "metadata": {
        "id": "kR1DSEt37rVB",
        "colab_type": "code",
        "colab": {}
      },
      "source": [
        "df.drop('Latitude', axis=1, inplace=True)"
      ],
      "execution_count": 0,
      "outputs": []
    },
    {
      "cell_type": "code",
      "metadata": {
        "id": "A9bGulxtGjXt",
        "colab_type": "code",
        "colab": {}
      },
      "source": [
        "df.drop('Longitude', axis=1, inplace=True)"
      ],
      "execution_count": 0,
      "outputs": []
    },
    {
      "cell_type": "code",
      "metadata": {
        "id": "EhdY7jsTGt0D",
        "colab_type": "code",
        "outputId": "302e3e4e-8fe8-47a2-e8fb-1cac7cd5483a",
        "colab": {
          "base_uri": "https://localhost:8080/",
          "height": 119
        }
      },
      "source": [
        "df.columns"
      ],
      "execution_count": 0,
      "outputs": [
        {
          "output_type": "execute_result",
          "data": {
            "text/plain": [
              "Index(['Guarantee Number', 'Transaction Report ID', 'Guarantee Country Name',\n",
              "       'Amount (USD)', 'Currency Name', 'Disbursement Date', 'End Date',\n",
              "       'Business Sector', 'City/Town', 'State/Province/Region Name',\n",
              "       'State/Province/Region Code', 'State/Province/Region Country Name',\n",
              "       'Region Name', 'Is Woman Owned?', 'Is First Time Borrower?'],\n",
              "      dtype='object')"
            ]
          },
          "metadata": {
            "tags": []
          },
          "execution_count": 15
        }
      ]
    },
    {
      "cell_type": "markdown",
      "metadata": {
        "id": "xKkSRu8iwYbG",
        "colab_type": "text"
      },
      "source": [
        "# Accuracy"
      ]
    },
    {
      "cell_type": "code",
      "metadata": {
        "id": "FkzzL0XJ926O",
        "colab_type": "code",
        "colab": {}
      },
      "source": [
        "# changing the format of Disbursement Date and End Date\n",
        "df['Disbursement Date'] = pd.to_datetime(df['Disbursement Date'])\n",
        "df['End Date'] = pd.to_datetime(df['End Date'])"
      ],
      "execution_count": 0,
      "outputs": []
    },
    {
      "cell_type": "code",
      "metadata": {
        "id": "ssuS1Yps8T-f",
        "colab_type": "code",
        "colab": {}
      },
      "source": [
        "def check(row):\n",
        "  if row['Disbursement Date'] < row['End Date']:\n",
        "    return True\n",
        "  else:\n",
        "    return False"
      ],
      "execution_count": 0,
      "outputs": []
    },
    {
      "cell_type": "code",
      "metadata": {
        "id": "l-fHHHG88ppQ",
        "colab_type": "code",
        "outputId": "a84c8e88-cb32-4cc6-d852-90a296873747",
        "colab": {
          "base_uri": "https://localhost:8080/",
          "height": 360
        }
      },
      "source": [
        "df['verifier'] = df.apply(lambda row:check(row), axis=1)\n",
        "df.tail()"
      ],
      "execution_count": 0,
      "outputs": [
        {
          "output_type": "execute_result",
          "data": {
            "text/html": [
              "<div>\n",
              "<style scoped>\n",
              "    .dataframe tbody tr th:only-of-type {\n",
              "        vertical-align: middle;\n",
              "    }\n",
              "\n",
              "    .dataframe tbody tr th {\n",
              "        vertical-align: top;\n",
              "    }\n",
              "\n",
              "    .dataframe thead th {\n",
              "        text-align: right;\n",
              "    }\n",
              "</style>\n",
              "<table border=\"1\" class=\"dataframe\">\n",
              "  <thead>\n",
              "    <tr style=\"text-align: right;\">\n",
              "      <th></th>\n",
              "      <th>Guarantee Number</th>\n",
              "      <th>Transaction Report ID</th>\n",
              "      <th>Guarantee Country Name</th>\n",
              "      <th>Amount (USD)</th>\n",
              "      <th>Currency Name</th>\n",
              "      <th>Disbursement Date</th>\n",
              "      <th>End Date</th>\n",
              "      <th>Business Sector</th>\n",
              "      <th>City/Town</th>\n",
              "      <th>State/Province/Region Name</th>\n",
              "      <th>State/Province/Region Code</th>\n",
              "      <th>State/Province/Region Country Name</th>\n",
              "      <th>Region Name</th>\n",
              "      <th>Is Woman Owned?</th>\n",
              "      <th>Is First Time Borrower?</th>\n",
              "      <th>verifier</th>\n",
              "    </tr>\n",
              "  </thead>\n",
              "  <tbody>\n",
              "    <tr>\n",
              "      <th>186540</th>\n",
              "      <td>620-DCA-06-001</td>\n",
              "      <td>312460</td>\n",
              "      <td>Nigeria</td>\n",
              "      <td>47602.8562</td>\n",
              "      <td>NIGERIA - NAIRA</td>\n",
              "      <td>2008-10-03</td>\n",
              "      <td>2018-02-03</td>\n",
              "      <td>Other Service</td>\n",
              "      <td>NaN</td>\n",
              "      <td>NaN</td>\n",
              "      <td>NaN</td>\n",
              "      <td>NaN</td>\n",
              "      <td>NaN</td>\n",
              "      <td>0</td>\n",
              "      <td>0</td>\n",
              "      <td>True</td>\n",
              "    </tr>\n",
              "    <tr>\n",
              "      <th>186541</th>\n",
              "      <td>620-DCA-06-001</td>\n",
              "      <td>312459</td>\n",
              "      <td>Nigeria</td>\n",
              "      <td>54403.2642</td>\n",
              "      <td>NIGERIA - NAIRA</td>\n",
              "      <td>2008-10-03</td>\n",
              "      <td>2018-02-03</td>\n",
              "      <td>Other Service</td>\n",
              "      <td>NaN</td>\n",
              "      <td>NaN</td>\n",
              "      <td>NaN</td>\n",
              "      <td>NaN</td>\n",
              "      <td>NaN</td>\n",
              "      <td>0</td>\n",
              "      <td>1</td>\n",
              "      <td>True</td>\n",
              "    </tr>\n",
              "    <tr>\n",
              "      <th>186542</th>\n",
              "      <td>620-DCA-06-001</td>\n",
              "      <td>312458</td>\n",
              "      <td>Nigeria</td>\n",
              "      <td>51003.0602</td>\n",
              "      <td>NIGERIA - NAIRA</td>\n",
              "      <td>2008-10-03</td>\n",
              "      <td>2016-10-03</td>\n",
              "      <td>Other Service</td>\n",
              "      <td>NaN</td>\n",
              "      <td>NaN</td>\n",
              "      <td>NaN</td>\n",
              "      <td>NaN</td>\n",
              "      <td>NaN</td>\n",
              "      <td>0</td>\n",
              "      <td>1</td>\n",
              "      <td>True</td>\n",
              "    </tr>\n",
              "    <tr>\n",
              "      <th>186543</th>\n",
              "      <td>620-DCA-06-001</td>\n",
              "      <td>312462</td>\n",
              "      <td>Nigeria</td>\n",
              "      <td>37402.2441</td>\n",
              "      <td>NIGERIA - NAIRA</td>\n",
              "      <td>2008-10-31</td>\n",
              "      <td>2017-10-30</td>\n",
              "      <td>Information &amp; Communication Technologies</td>\n",
              "      <td>NaN</td>\n",
              "      <td>NaN</td>\n",
              "      <td>NaN</td>\n",
              "      <td>NaN</td>\n",
              "      <td>NaN</td>\n",
              "      <td>0</td>\n",
              "      <td>0</td>\n",
              "      <td>True</td>\n",
              "    </tr>\n",
              "    <tr>\n",
              "      <th>186544</th>\n",
              "      <td>620-DCA-06-001</td>\n",
              "      <td>312461</td>\n",
              "      <td>Nigeria</td>\n",
              "      <td>10200.6120</td>\n",
              "      <td>NIGERIA - NAIRA</td>\n",
              "      <td>2008-10-31</td>\n",
              "      <td>2017-10-30</td>\n",
              "      <td>Other Service</td>\n",
              "      <td>NaN</td>\n",
              "      <td>NaN</td>\n",
              "      <td>NaN</td>\n",
              "      <td>NaN</td>\n",
              "      <td>NaN</td>\n",
              "      <td>0</td>\n",
              "      <td>0</td>\n",
              "      <td>True</td>\n",
              "    </tr>\n",
              "  </tbody>\n",
              "</table>\n",
              "</div>"
            ],
            "text/plain": [
              "       Guarantee Number  ...  verifier\n",
              "186540   620-DCA-06-001  ...      True\n",
              "186541   620-DCA-06-001  ...      True\n",
              "186542   620-DCA-06-001  ...      True\n",
              "186543   620-DCA-06-001  ...      True\n",
              "186544   620-DCA-06-001  ...      True\n",
              "\n",
              "[5 rows x 16 columns]"
            ]
          },
          "metadata": {
            "tags": []
          },
          "execution_count": 20
        }
      ]
    },
    {
      "cell_type": "markdown",
      "metadata": {
        "id": "zRC8vdzTwb6t",
        "colab_type": "text"
      },
      "source": [
        "# Completeness"
      ]
    },
    {
      "cell_type": "code",
      "metadata": {
        "id": "tGU7ne7b-9yF",
        "colab_type": "code",
        "outputId": "076e6fa1-9290-4092-90ed-bacade2cebc1",
        "colab": {
          "base_uri": "https://localhost:8080/",
          "height": 306
        }
      },
      "source": [
        "# Checking for null values\n",
        "df.isnull().any()"
      ],
      "execution_count": 0,
      "outputs": [
        {
          "output_type": "execute_result",
          "data": {
            "text/plain": [
              "Guarantee Number                      False\n",
              "Transaction Report ID                 False\n",
              "Guarantee Country Name                False\n",
              "Amount (USD)                          False\n",
              "Currency Name                         False\n",
              "Disbursement Date                     False\n",
              "End Date                              False\n",
              "Business Sector                        True\n",
              "City/Town                              True\n",
              "State/Province/Region Name             True\n",
              "State/Province/Region Code             True\n",
              "State/Province/Region Country Name     True\n",
              "Region Name                            True\n",
              "Is Woman Owned?                       False\n",
              "Is First Time Borrower?               False\n",
              "verifier                              False\n",
              "dtype: bool"
            ]
          },
          "metadata": {
            "tags": []
          },
          "execution_count": 23
        }
      ]
    },
    {
      "cell_type": "code",
      "metadata": {
        "id": "WaBjowk-_SE9",
        "colab_type": "code",
        "outputId": "dbbe59c2-0022-41c2-b2f1-128e24ab23ee",
        "colab": {
          "base_uri": "https://localhost:8080/",
          "height": 312
        }
      },
      "source": [
        "df.isnull().sum()"
      ],
      "execution_count": 0,
      "outputs": [
        {
          "output_type": "execute_result",
          "data": {
            "text/plain": [
              "Guarantee Number                          0\n",
              "Transaction Report ID                     0\n",
              "Guarantee Country Name                    0\n",
              "Amount (USD)                              0\n",
              "Currency Name                             0\n",
              "Disbursement Date                         0\n",
              "End Date                                  0\n",
              "Business Sector                        2481\n",
              "City/Town                             18031\n",
              "State/Province/Region Name            25904\n",
              "State/Province/Region Code            25904\n",
              "State/Province/Region Country Name    25904\n",
              "Region Name                           25904\n",
              "Is Woman Owned?                           1\n",
              "Is First Time Borrower?                   1\n",
              "verifier                                  0\n",
              "dtype: int64"
            ]
          },
          "metadata": {
            "tags": []
          },
          "execution_count": 21
        }
      ]
    },
    {
      "cell_type": "code",
      "metadata": {
        "id": "of8JysbuHhUE",
        "colab_type": "code",
        "outputId": "a0248e81-a546-4f9a-8285-09b846e227c9",
        "colab": {
          "base_uri": "https://localhost:8080/",
          "height": 34
        }
      },
      "source": [
        "df.shape"
      ],
      "execution_count": 0,
      "outputs": [
        {
          "output_type": "execute_result",
          "data": {
            "text/plain": [
              "(186545, 16)"
            ]
          },
          "metadata": {
            "tags": []
          },
          "execution_count": 24
        }
      ]
    },
    {
      "cell_type": "code",
      "metadata": {
        "id": "A_QiWvn3_b2C",
        "colab_type": "code",
        "outputId": "a53c0ef1-cd80-42e7-d7b1-e8438f91597d",
        "colab": {
          "base_uri": "https://localhost:8080/",
          "height": 51
        }
      },
      "source": [
        "# Checking for the mode of the columns with missing values\n",
        "df.loc[:, 'Is First Time Borrower?'].mode()"
      ],
      "execution_count": 0,
      "outputs": [
        {
          "output_type": "execute_result",
          "data": {
            "text/plain": [
              "0    0\n",
              "dtype: int64"
            ]
          },
          "metadata": {
            "tags": []
          },
          "execution_count": 26
        }
      ]
    },
    {
      "cell_type": "code",
      "metadata": {
        "id": "ct_VVGnRLuB5",
        "colab_type": "code",
        "outputId": "739de3c9-b10a-4cfd-8cbe-ee762c5f20b3",
        "colab": {
          "base_uri": "https://localhost:8080/",
          "height": 51
        }
      },
      "source": [
        "# Checking for the mode of the columns with missing values\n",
        "df.loc[:, 'Business Sector'].mode()"
      ],
      "execution_count": 0,
      "outputs": [
        {
          "output_type": "execute_result",
          "data": {
            "text/plain": [
              "0    Agriculture\n",
              "dtype: object"
            ]
          },
          "metadata": {
            "tags": []
          },
          "execution_count": 27
        }
      ]
    },
    {
      "cell_type": "code",
      "metadata": {
        "id": "n0ObK-qQq3J2",
        "colab_type": "code",
        "outputId": "7ad4bcf9-4706-4f45-87aa-1227615a7338",
        "colab": {
          "base_uri": "https://localhost:8080/",
          "height": 51
        }
      },
      "source": [
        "# Checking for the mode of the columns with missing values\n",
        "df.loc[:, 'Is Woman Owned?'].mode()"
      ],
      "execution_count": 0,
      "outputs": [
        {
          "output_type": "execute_result",
          "data": {
            "text/plain": [
              "0    0\n",
              "dtype: int64"
            ]
          },
          "metadata": {
            "tags": []
          },
          "execution_count": 29
        }
      ]
    },
    {
      "cell_type": "code",
      "metadata": {
        "id": "rwWG8twYL23F",
        "colab_type": "code",
        "colab": {}
      },
      "source": [
        "#Filling the missing values with the mode value\n",
        "df['Business Sector']=df['Business Sector'].fillna('Agriculture')"
      ],
      "execution_count": 0,
      "outputs": []
    },
    {
      "cell_type": "code",
      "metadata": {
        "id": "TApXmnymKtEj",
        "colab_type": "code",
        "colab": {}
      },
      "source": [
        "#Filling the missing values with the mode value\n",
        "df['Is First Time Borrower?']=df['Is First Time Borrower?'].fillna(0.0)"
      ],
      "execution_count": 0,
      "outputs": []
    },
    {
      "cell_type": "code",
      "metadata": {
        "id": "6Rzmmb8iLg-H",
        "colab_type": "code",
        "colab": {}
      },
      "source": [
        "#Filling the missing values with the mode value\n",
        "df['Is Woman Owned?']=df['Is Woman Owned?'].fillna(0.0)"
      ],
      "execution_count": 0,
      "outputs": []
    },
    {
      "cell_type": "code",
      "metadata": {
        "id": "xUdeeQ3LK5lW",
        "colab_type": "code",
        "outputId": "509e8791-10b7-4253-a838-332bd0c7990d",
        "colab": {
          "base_uri": "https://localhost:8080/",
          "height": 306
        }
      },
      "source": [
        "#Checking for missing values\n",
        "df.isnull().sum()"
      ],
      "execution_count": 0,
      "outputs": [
        {
          "output_type": "execute_result",
          "data": {
            "text/plain": [
              "Guarantee Number                          0\n",
              "Transaction Report ID                     0\n",
              "Guarantee Country Name                    0\n",
              "Amount (USD)                              0\n",
              "Currency Name                             0\n",
              "Disbursement Date                         0\n",
              "End Date                                  0\n",
              "Business Sector                           0\n",
              "City/Town                             40292\n",
              "State/Province/Region Name            51691\n",
              "State/Province/Region Code            51691\n",
              "State/Province/Region Country Name    51691\n",
              "Region Name                           51691\n",
              "Is Woman Owned?                           0\n",
              "Is First Time Borrower?                   0\n",
              "verifier                                  0\n",
              "dtype: int64"
            ]
          },
          "metadata": {
            "tags": []
          },
          "execution_count": 37
        }
      ]
    },
    {
      "cell_type": "code",
      "metadata": {
        "id": "Tpos8o7OMIRf",
        "colab_type": "code",
        "colab": {}
      },
      "source": [
        "#Dropping the columns with many missing values\n",
        "df=df.dropna()\n"
      ],
      "execution_count": 0,
      "outputs": []
    },
    {
      "cell_type": "code",
      "metadata": {
        "id": "6itkgk6iMP-5",
        "colab_type": "code",
        "outputId": "dd03cd38-767b-48c2-e906-4af949e70012",
        "colab": {
          "base_uri": "https://localhost:8080/",
          "height": 34
        }
      },
      "source": [
        "#Confirming the number of columns and rows after dropping columns with many missing values\n",
        "df.shape"
      ],
      "execution_count": 0,
      "outputs": [
        {
          "output_type": "execute_result",
          "data": {
            "text/plain": [
              "(134854, 16)"
            ]
          },
          "metadata": {
            "tags": []
          },
          "execution_count": 39
        }
      ]
    },
    {
      "cell_type": "code",
      "metadata": {
        "id": "Gql__F_AMfr9",
        "colab_type": "code",
        "outputId": "60d9662d-6d3b-4bc4-b454-5b3dcd96e4a2",
        "colab": {
          "base_uri": "https://localhost:8080/",
          "height": 306
        }
      },
      "source": [
        "#Checking if the columns have any more missing values\n",
        "df.isnull().sum()"
      ],
      "execution_count": 0,
      "outputs": [
        {
          "output_type": "execute_result",
          "data": {
            "text/plain": [
              "Guarantee Number                      0\n",
              "Transaction Report ID                 0\n",
              "Guarantee Country Name                0\n",
              "Amount (USD)                          0\n",
              "Currency Name                         0\n",
              "Disbursement Date                     0\n",
              "End Date                              0\n",
              "Business Sector                       0\n",
              "City/Town                             0\n",
              "State/Province/Region Name            0\n",
              "State/Province/Region Code            0\n",
              "State/Province/Region Country Name    0\n",
              "Region Name                           0\n",
              "Is Woman Owned?                       0\n",
              "Is First Time Borrower?               0\n",
              "verifier                              0\n",
              "dtype: int64"
            ]
          },
          "metadata": {
            "tags": []
          },
          "execution_count": 40
        }
      ]
    },
    {
      "cell_type": "markdown",
      "metadata": {
        "id": "t-eXRGNLFjLu",
        "colab_type": "text"
      },
      "source": [
        "#SHARON"
      ]
    },
    {
      "cell_type": "markdown",
      "metadata": {
        "id": "lB3bEEjd_xyA",
        "colab_type": "text"
      },
      "source": [
        "# Consistency"
      ]
    },
    {
      "cell_type": "code",
      "metadata": {
        "id": "YNMhx6gR_0qf",
        "colab_type": "code",
        "outputId": "eaccc99f-07b8-4300-8819-6d83f47c66de",
        "colab": {
          "base_uri": "https://localhost:8080/",
          "height": 34
        }
      },
      "source": [
        "# Checking for duplicates\n",
        "df.duplicated().any()"
      ],
      "execution_count": 0,
      "outputs": [
        {
          "output_type": "execute_result",
          "data": {
            "text/plain": [
              "False"
            ]
          },
          "metadata": {
            "tags": []
          },
          "execution_count": 42
        }
      ]
    },
    {
      "cell_type": "markdown",
      "metadata": {
        "id": "6Ssy1lmvwjvz",
        "colab_type": "text"
      },
      "source": [
        "# Uniformity"
      ]
    },
    {
      "cell_type": "code",
      "metadata": {
        "id": "tXBfyVv7AKrw",
        "colab_type": "code",
        "colab": {}
      },
      "source": [
        "# I have changed two column in accuracy to datetime format"
      ],
      "execution_count": 0,
      "outputs": []
    },
    {
      "cell_type": "code",
      "metadata": {
        "id": "Q_9tnDefATsu",
        "colab_type": "code",
        "colab": {}
      },
      "source": [
        "# Changing all the columns to lowercase\n",
        "df.columns = df.columns.str.lower().str.replace(' ', '_').str.replace('(', '').str.replace(')', '')"
      ],
      "execution_count": 0,
      "outputs": []
    },
    {
      "cell_type": "code",
      "metadata": {
        "id": "je-80ojWM6xx",
        "colab_type": "code",
        "outputId": "578d399b-3ad5-4f14-9231-2efe555ecda9",
        "colab": {
          "base_uri": "https://localhost:8080/",
          "height": 136
        }
      },
      "source": [
        "df.columns"
      ],
      "execution_count": 0,
      "outputs": [
        {
          "output_type": "execute_result",
          "data": {
            "text/plain": [
              "Index(['guarantee_number', 'transaction_report_id', 'guarantee_country_name',\n",
              "       'amount_usd', 'currency_name', 'disbursement_date', 'end_date',\n",
              "       'business_sector', 'city/town', 'state/province/region_name',\n",
              "       'state/province/region_code', 'state/province/region_country_name',\n",
              "       'region_name', 'is_woman_owned?', 'is_first_time_borrower?',\n",
              "       'verifier'],\n",
              "      dtype='object')"
            ]
          },
          "metadata": {
            "tags": []
          },
          "execution_count": 44
        }
      ]
    },
    {
      "cell_type": "code",
      "metadata": {
        "id": "4JFBkHT1RS2B",
        "colab_type": "code",
        "colab": {}
      },
      "source": [
        "#Changing the datatype of amount_usd column to float\n",
        "df['amount_usd'] = df['amount_usd'].astype(int)"
      ],
      "execution_count": 0,
      "outputs": []
    },
    {
      "cell_type": "code",
      "metadata": {
        "id": "UPwSo1-RZI6N",
        "colab_type": "code",
        "outputId": "59d3c96b-df78-4cc4-b8ba-65b79e24bc7d",
        "colab": {
          "base_uri": "https://localhost:8080/",
          "height": 374
        }
      },
      "source": [
        "#Confirming that the datatype of the amoUunt_usd column has been successfully changed to float\n",
        "df.info()"
      ],
      "execution_count": 0,
      "outputs": [
        {
          "output_type": "stream",
          "text": [
            "<class 'pandas.core.frame.DataFrame'>\n",
            "RangeIndex: 134854 entries, 0 to 134853\n",
            "Data columns (total 16 columns):\n",
            "guarantee_number                      134854 non-null object\n",
            "transaction_report_id                 134854 non-null int64\n",
            "guarantee_country_name                134854 non-null object\n",
            "amount_usd                            134854 non-null int64\n",
            "currency_name                         134854 non-null object\n",
            "disbursement_date                     134854 non-null object\n",
            "end_date                              134854 non-null object\n",
            "business_sector                       134854 non-null object\n",
            "city/town                             134854 non-null object\n",
            "state/province/region_name            134854 non-null object\n",
            "state/province/region_code            134854 non-null object\n",
            "state/province/region_country_name    134854 non-null object\n",
            "region_name                           134854 non-null object\n",
            "is_woman_owned?                       134854 non-null int64\n",
            "is_first_time_borrower?               134854 non-null int64\n",
            "verifier                              134854 non-null bool\n",
            "dtypes: bool(1), int64(4), object(11)\n",
            "memory usage: 15.6+ MB\n"
          ],
          "name": "stdout"
        }
      ]
    },
    {
      "cell_type": "markdown",
      "metadata": {
        "id": "XhCEcGMNwo7S",
        "colab_type": "text"
      },
      "source": [
        "# Exporting the clean dataset"
      ]
    },
    {
      "cell_type": "code",
      "metadata": {
        "id": "B6XmcfxvAqJm",
        "colab_type": "code",
        "colab": {}
      },
      "source": [
        "import pandas as pd\n",
        "import numpy as np\n",
        "import datetime \n",
        "\n",
        "df.to_csv('CleanTings.csv')"
      ],
      "execution_count": 0,
      "outputs": []
    },
    {
      "cell_type": "code",
      "metadata": {
        "id": "vMuKljVOA0Tp",
        "colab_type": "code",
        "colab": {}
      },
      "source": [
        "# Downloading the csv\n",
        "from google.colab import files\n",
        "files.download(\"CleanTings.csv\")"
      ],
      "execution_count": 0,
      "outputs": []
    },
    {
      "cell_type": "code",
      "metadata": {
        "id": "f5cMh4DqBHi3",
        "colab_type": "code",
        "outputId": "08c0dca5-72e7-4336-85e0-d60b96c9d5ba",
        "colab": {
          "base_uri": "https://localhost:8080/",
          "height": 496
        }
      },
      "source": [
        "df = pd.read_csv('CleanTings.csv', encoding='utf-8')\n",
        "df.head()"
      ],
      "execution_count": 0,
      "outputs": [
        {
          "output_type": "execute_result",
          "data": {
            "text/html": [
              "<div>\n",
              "<style scoped>\n",
              "    .dataframe tbody tr th:only-of-type {\n",
              "        vertical-align: middle;\n",
              "    }\n",
              "\n",
              "    .dataframe tbody tr th {\n",
              "        vertical-align: top;\n",
              "    }\n",
              "\n",
              "    .dataframe thead th {\n",
              "        text-align: right;\n",
              "    }\n",
              "</style>\n",
              "<table border=\"1\" class=\"dataframe\">\n",
              "  <thead>\n",
              "    <tr style=\"text-align: right;\">\n",
              "      <th></th>\n",
              "      <th>Unnamed: 0</th>\n",
              "      <th>guarantee_number</th>\n",
              "      <th>transaction_report_id</th>\n",
              "      <th>guarantee_country_name</th>\n",
              "      <th>amount_usd</th>\n",
              "      <th>currency_name</th>\n",
              "      <th>disbursement_date</th>\n",
              "      <th>end_date</th>\n",
              "      <th>business_sector</th>\n",
              "      <th>city/town</th>\n",
              "      <th>state/province/region_name</th>\n",
              "      <th>state/province/region_code</th>\n",
              "      <th>state/province/region_country_name</th>\n",
              "      <th>region_name</th>\n",
              "      <th>is_woman_owned?</th>\n",
              "      <th>is_first_time_borrower?</th>\n",
              "      <th>verifier</th>\n",
              "    </tr>\n",
              "  </thead>\n",
              "  <tbody>\n",
              "    <tr>\n",
              "      <th>0</th>\n",
              "      <td>0</td>\n",
              "      <td>099-DCA-09-006A (Asociacion Arariwa)</td>\n",
              "      <td>356191</td>\n",
              "      <td>Worldwide</td>\n",
              "      <td>980144</td>\n",
              "      <td>PERU - NUEVO SOL</td>\n",
              "      <td>2011-09-20</td>\n",
              "      <td>2013-09-09</td>\n",
              "      <td>Agriculture</td>\n",
              "      <td>Cusco</td>\n",
              "      <td>Cusco</td>\n",
              "      <td>PE08</td>\n",
              "      <td>Peru</td>\n",
              "      <td>LATIN AMERICA &amp; THE CARIBBEAN</td>\n",
              "      <td>0</td>\n",
              "      <td>1</td>\n",
              "      <td>True</td>\n",
              "    </tr>\n",
              "    <tr>\n",
              "      <th>1</th>\n",
              "      <td>1</td>\n",
              "      <td>099-DCA-09-006B (Pro Mujer Peru)</td>\n",
              "      <td>331620</td>\n",
              "      <td>Worldwide</td>\n",
              "      <td>1960288</td>\n",
              "      <td>PERU - NUEVO SOL</td>\n",
              "      <td>2011-09-20</td>\n",
              "      <td>2014-09-04</td>\n",
              "      <td>Agriculture</td>\n",
              "      <td>Puno</td>\n",
              "      <td>Puno</td>\n",
              "      <td>PE21</td>\n",
              "      <td>Peru</td>\n",
              "      <td>LATIN AMERICA &amp; THE CARIBBEAN</td>\n",
              "      <td>0</td>\n",
              "      <td>0</td>\n",
              "      <td>True</td>\n",
              "    </tr>\n",
              "    <tr>\n",
              "      <th>2</th>\n",
              "      <td>2</td>\n",
              "      <td>099-DCA-09-006C (ProEmpresa)</td>\n",
              "      <td>349835</td>\n",
              "      <td>Worldwide</td>\n",
              "      <td>2007490</td>\n",
              "      <td>PERU - NUEVO SOL</td>\n",
              "      <td>2012-01-18</td>\n",
              "      <td>2013-08-05</td>\n",
              "      <td>Agriculture</td>\n",
              "      <td>Lima</td>\n",
              "      <td>Lima</td>\n",
              "      <td>PE15</td>\n",
              "      <td>Peru</td>\n",
              "      <td>LATIN AMERICA &amp; THE CARIBBEAN</td>\n",
              "      <td>0</td>\n",
              "      <td>1</td>\n",
              "      <td>True</td>\n",
              "    </tr>\n",
              "    <tr>\n",
              "      <th>3</th>\n",
              "      <td>3</td>\n",
              "      <td>099-DCA-09-006F (COCLA)</td>\n",
              "      <td>473058</td>\n",
              "      <td>Worldwide</td>\n",
              "      <td>1780000</td>\n",
              "      <td>UNITED STATES - DOLLAR</td>\n",
              "      <td>2012-08-15</td>\n",
              "      <td>2014-08-20</td>\n",
              "      <td>Agriculture</td>\n",
              "      <td>Cusco</td>\n",
              "      <td>Cusco</td>\n",
              "      <td>PE08</td>\n",
              "      <td>Peru</td>\n",
              "      <td>LATIN AMERICA &amp; THE CARIBBEAN</td>\n",
              "      <td>0</td>\n",
              "      <td>0</td>\n",
              "      <td>True</td>\n",
              "    </tr>\n",
              "    <tr>\n",
              "      <th>4</th>\n",
              "      <td>4</td>\n",
              "      <td>099-DCA-09-006G (Manuela Ramos)</td>\n",
              "      <td>420674</td>\n",
              "      <td>Worldwide</td>\n",
              "      <td>1158301</td>\n",
              "      <td>PERU - NUEVO SOL</td>\n",
              "      <td>2012-11-28</td>\n",
              "      <td>2014-11-28</td>\n",
              "      <td>Agriculture</td>\n",
              "      <td>Lima</td>\n",
              "      <td>Lima</td>\n",
              "      <td>PE15</td>\n",
              "      <td>Peru</td>\n",
              "      <td>LATIN AMERICA &amp; THE CARIBBEAN</td>\n",
              "      <td>0</td>\n",
              "      <td>0</td>\n",
              "      <td>True</td>\n",
              "    </tr>\n",
              "  </tbody>\n",
              "</table>\n",
              "</div>"
            ],
            "text/plain": [
              "   Unnamed: 0  ... verifier\n",
              "0           0  ...     True\n",
              "1           1  ...     True\n",
              "2           2  ...     True\n",
              "3           3  ...     True\n",
              "4           4  ...     True\n",
              "\n",
              "[5 rows x 17 columns]"
            ]
          },
          "metadata": {
            "tags": []
          },
          "execution_count": 80
        }
      ]
    },
    {
      "cell_type": "code",
      "metadata": {
        "id": "cdwWvLQqzoFT",
        "colab_type": "code",
        "colab": {}
      },
      "source": [
        "#Dropping 'unnamed: 0' column\n",
        "df.drop('Unnamed: 0', axis=1, inplace= True)\n"
      ],
      "execution_count": 0,
      "outputs": []
    },
    {
      "cell_type": "code",
      "metadata": {
        "id": "F_kIZ_Apt_Up",
        "colab_type": "code",
        "outputId": "f50c68d1-6eaa-4b1d-cad3-1b53f080f87b",
        "colab": {
          "base_uri": "https://localhost:8080/",
          "height": 479
        }
      },
      "source": [
        "df.head()"
      ],
      "execution_count": 0,
      "outputs": [
        {
          "output_type": "execute_result",
          "data": {
            "text/html": [
              "<div>\n",
              "<style scoped>\n",
              "    .dataframe tbody tr th:only-of-type {\n",
              "        vertical-align: middle;\n",
              "    }\n",
              "\n",
              "    .dataframe tbody tr th {\n",
              "        vertical-align: top;\n",
              "    }\n",
              "\n",
              "    .dataframe thead th {\n",
              "        text-align: right;\n",
              "    }\n",
              "</style>\n",
              "<table border=\"1\" class=\"dataframe\">\n",
              "  <thead>\n",
              "    <tr style=\"text-align: right;\">\n",
              "      <th></th>\n",
              "      <th>guarantee_number</th>\n",
              "      <th>transaction_report_id</th>\n",
              "      <th>guarantee_country_name</th>\n",
              "      <th>amount_usd</th>\n",
              "      <th>currency_name</th>\n",
              "      <th>disbursement_date</th>\n",
              "      <th>end_date</th>\n",
              "      <th>business_sector</th>\n",
              "      <th>city/town</th>\n",
              "      <th>state/province/region_name</th>\n",
              "      <th>state/province/region_code</th>\n",
              "      <th>state/province/region_country_name</th>\n",
              "      <th>region_name</th>\n",
              "      <th>is_woman_owned?</th>\n",
              "      <th>is_first_time_borrower?</th>\n",
              "      <th>verifier</th>\n",
              "    </tr>\n",
              "  </thead>\n",
              "  <tbody>\n",
              "    <tr>\n",
              "      <th>0</th>\n",
              "      <td>099-DCA-09-006A (Asociacion Arariwa)</td>\n",
              "      <td>356191</td>\n",
              "      <td>Worldwide</td>\n",
              "      <td>980144</td>\n",
              "      <td>PERU - NUEVO SOL</td>\n",
              "      <td>2011-09-20</td>\n",
              "      <td>2013-09-09</td>\n",
              "      <td>Agriculture</td>\n",
              "      <td>Cusco</td>\n",
              "      <td>Cusco</td>\n",
              "      <td>PE08</td>\n",
              "      <td>Peru</td>\n",
              "      <td>LATIN AMERICA &amp; THE CARIBBEAN</td>\n",
              "      <td>0</td>\n",
              "      <td>1</td>\n",
              "      <td>True</td>\n",
              "    </tr>\n",
              "    <tr>\n",
              "      <th>1</th>\n",
              "      <td>099-DCA-09-006B (Pro Mujer Peru)</td>\n",
              "      <td>331620</td>\n",
              "      <td>Worldwide</td>\n",
              "      <td>1960288</td>\n",
              "      <td>PERU - NUEVO SOL</td>\n",
              "      <td>2011-09-20</td>\n",
              "      <td>2014-09-04</td>\n",
              "      <td>Agriculture</td>\n",
              "      <td>Puno</td>\n",
              "      <td>Puno</td>\n",
              "      <td>PE21</td>\n",
              "      <td>Peru</td>\n",
              "      <td>LATIN AMERICA &amp; THE CARIBBEAN</td>\n",
              "      <td>0</td>\n",
              "      <td>0</td>\n",
              "      <td>True</td>\n",
              "    </tr>\n",
              "    <tr>\n",
              "      <th>2</th>\n",
              "      <td>099-DCA-09-006C (ProEmpresa)</td>\n",
              "      <td>349835</td>\n",
              "      <td>Worldwide</td>\n",
              "      <td>2007490</td>\n",
              "      <td>PERU - NUEVO SOL</td>\n",
              "      <td>2012-01-18</td>\n",
              "      <td>2013-08-05</td>\n",
              "      <td>Agriculture</td>\n",
              "      <td>Lima</td>\n",
              "      <td>Lima</td>\n",
              "      <td>PE15</td>\n",
              "      <td>Peru</td>\n",
              "      <td>LATIN AMERICA &amp; THE CARIBBEAN</td>\n",
              "      <td>0</td>\n",
              "      <td>1</td>\n",
              "      <td>True</td>\n",
              "    </tr>\n",
              "    <tr>\n",
              "      <th>3</th>\n",
              "      <td>099-DCA-09-006F (COCLA)</td>\n",
              "      <td>473058</td>\n",
              "      <td>Worldwide</td>\n",
              "      <td>1780000</td>\n",
              "      <td>UNITED STATES - DOLLAR</td>\n",
              "      <td>2012-08-15</td>\n",
              "      <td>2014-08-20</td>\n",
              "      <td>Agriculture</td>\n",
              "      <td>Cusco</td>\n",
              "      <td>Cusco</td>\n",
              "      <td>PE08</td>\n",
              "      <td>Peru</td>\n",
              "      <td>LATIN AMERICA &amp; THE CARIBBEAN</td>\n",
              "      <td>0</td>\n",
              "      <td>0</td>\n",
              "      <td>True</td>\n",
              "    </tr>\n",
              "    <tr>\n",
              "      <th>4</th>\n",
              "      <td>099-DCA-09-006G (Manuela Ramos)</td>\n",
              "      <td>420674</td>\n",
              "      <td>Worldwide</td>\n",
              "      <td>1158301</td>\n",
              "      <td>PERU - NUEVO SOL</td>\n",
              "      <td>2012-11-28</td>\n",
              "      <td>2014-11-28</td>\n",
              "      <td>Agriculture</td>\n",
              "      <td>Lima</td>\n",
              "      <td>Lima</td>\n",
              "      <td>PE15</td>\n",
              "      <td>Peru</td>\n",
              "      <td>LATIN AMERICA &amp; THE CARIBBEAN</td>\n",
              "      <td>0</td>\n",
              "      <td>0</td>\n",
              "      <td>True</td>\n",
              "    </tr>\n",
              "  </tbody>\n",
              "</table>\n",
              "</div>"
            ],
            "text/plain": [
              "                       guarantee_number  ...  verifier\n",
              "0  099-DCA-09-006A (Asociacion Arariwa)  ...      True\n",
              "1      099-DCA-09-006B (Pro Mujer Peru)  ...      True\n",
              "2          099-DCA-09-006C (ProEmpresa)  ...      True\n",
              "3               099-DCA-09-006F (COCLA)  ...      True\n",
              "4       099-DCA-09-006G (Manuela Ramos)  ...      True\n",
              "\n",
              "[5 rows x 16 columns]"
            ]
          },
          "metadata": {
            "tags": []
          },
          "execution_count": 83
        }
      ]
    },
    {
      "cell_type": "markdown",
      "metadata": {
        "id": "R1P-9D52D64N",
        "colab_type": "text"
      },
      "source": [
        "## ABEL"
      ]
    },
    {
      "cell_type": "code",
      "metadata": {
        "id": "viKmLVuJw9Zl",
        "colab_type": "code",
        "outputId": "e463e5f4-91bf-4760-d6d2-620c71c1bb50",
        "colab": {
          "base_uri": "https://localhost:8080/",
          "height": 238
        }
      },
      "source": [
        "# sum of amount per currency\n",
        "df1=df.groupby(pd.Grouper(('currency_name')))\n",
        "df2 =df1['amount_usd'].sum()\n",
        "df2"
      ],
      "execution_count": 0,
      "outputs": [
        {
          "output_type": "execute_result",
          "data": {
            "text/plain": [
              "currency_name\n",
              "PERU - NUEVO SOL                    39857696\n",
              "UNITED STATES - DOLLAR             309844505\n",
              "SOUTH AFRICA - RAND                 62485920\n",
              "MADAGASCAR - ARIARY                   409660\n",
              "NIGERIA - NAIRA                     14638027\n",
              "                                     ...    \n",
              "ZAMBIA - NEW KWACHA                   392653\n",
              "BULGARIA - LEV                      10471389\n",
              "SERBIA MONTENEGRO - DINAR            5873984\n",
              "GRENADA - EAST CARIBBEAN DOLLAR      3929955\n",
              "BOSNIA-HERCEGOVINA DO NOT USE       25171477\n",
              "Name: amount_usd, Length: 74, dtype: int64"
            ]
          },
          "metadata": {
            "tags": []
          },
          "execution_count": 88
        }
      ]
    },
    {
      "cell_type": "code",
      "metadata": {
        "id": "CC4F2R0VygQ9",
        "colab_type": "code",
        "outputId": "4145d344-01ac-464f-fed6-d38c426bd6b2",
        "colab": {
          "base_uri": "https://localhost:8080/",
          "height": 238
        }
      },
      "source": [
        "# Determining the amount of times a currency was used\n",
        "df1=df.groupby(pd.Grouper(('currency_name'))).count()\n",
        "df2 =df1['amount_usd']\n",
        "df2"
      ],
      "execution_count": 0,
      "outputs": [
        {
          "output_type": "execute_result",
          "data": {
            "text/plain": [
              "currency_name\n",
              "PERU - NUEVO SOL                   21424\n",
              "UNITED STATES - DOLLAR              7058\n",
              "SOUTH AFRICA - RAND                  268\n",
              "MADAGASCAR - ARIARY                   13\n",
              "NIGERIA - NAIRA                      666\n",
              "                                   ...  \n",
              "ZAMBIA - NEW KWACHA                    1\n",
              "BULGARIA - LEV                        77\n",
              "SERBIA MONTENEGRO - DINAR              4\n",
              "GRENADA - EAST CARIBBEAN DOLLAR       86\n",
              "BOSNIA-HERCEGOVINA DO NOT USE        160\n",
              "Name: amount_usd, Length: 74, dtype: int64"
            ]
          },
          "metadata": {
            "tags": []
          },
          "execution_count": 89
        }
      ]
    },
    {
      "cell_type": "code",
      "metadata": {
        "id": "Z7mzqxL59jv2",
        "colab_type": "code",
        "outputId": "ceffe989-939d-4bec-ef1b-8e1def72eb6b",
        "colab": {
          "base_uri": "https://localhost:8080/",
          "height": 238
        }
      },
      "source": [
        "# Min of amount per currency\n",
        "df1=df.groupby(pd.Grouper(('currency_name')))\n",
        "df2 =df1['amount_usd'].min()\n",
        "df2"
      ],
      "execution_count": 0,
      "outputs": [
        {
          "output_type": "execute_result",
          "data": {
            "text/plain": [
              "currency_name\n",
              "PERU - NUEVO SOL                        0\n",
              "UNITED STATES - DOLLAR                  0\n",
              "SOUTH AFRICA - RAND                  4546\n",
              "MADAGASCAR - ARIARY                  1583\n",
              "NIGERIA - NAIRA                         0\n",
              "                                    ...  \n",
              "ZAMBIA - NEW KWACHA                392653\n",
              "BULGARIA - LEV                          0\n",
              "SERBIA MONTENEGRO - DINAR          947409\n",
              "GRENADA - EAST CARIBBEAN DOLLAR       740\n",
              "BOSNIA-HERCEGOVINA DO NOT USE       18691\n",
              "Name: amount_usd, Length: 74, dtype: int64"
            ]
          },
          "metadata": {
            "tags": []
          },
          "execution_count": 96
        }
      ]
    },
    {
      "cell_type": "code",
      "metadata": {
        "id": "q2FRj98g9oGM",
        "colab_type": "code",
        "outputId": "75f21753-eb8e-40fe-ea3f-7b0935d5747b",
        "colab": {
          "base_uri": "https://localhost:8080/",
          "height": 238
        }
      },
      "source": [
        "# maximum amount per currency\n",
        "df1=df.groupby(pd.Grouper(('currency_name')))\n",
        "df2 =df1['amount_usd'].max()\n",
        "df2"
      ],
      "execution_count": 0,
      "outputs": [
        {
          "output_type": "execute_result",
          "data": {
            "text/plain": [
              "currency_name\n",
              "PERU - NUEVO SOL                    2007490\n",
              "UNITED STATES - DOLLAR             60000000\n",
              "SOUTH AFRICA - RAND                 9806547\n",
              "MADAGASCAR - ARIARY                  138419\n",
              "NIGERIA - NAIRA                      997229\n",
              "                                     ...   \n",
              "ZAMBIA - NEW KWACHA                  392653\n",
              "BULGARIA - LEV                      1324265\n",
              "SERBIA MONTENEGRO - DINAR           1988667\n",
              "GRENADA - EAST CARIBBEAN DOLLAR     1254074\n",
              "BOSNIA-HERCEGOVINA DO NOT USE       1086965\n",
              "Name: amount_usd, Length: 74, dtype: int64"
            ]
          },
          "metadata": {
            "tags": []
          },
          "execution_count": 97
        }
      ]
    },
    {
      "cell_type": "code",
      "metadata": {
        "id": "CvpamU3X9v_o",
        "colab_type": "code",
        "outputId": "7228435b-0658-491a-ceff-4544b18d00d2",
        "colab": {
          "base_uri": "https://localhost:8080/",
          "height": 238
        }
      },
      "source": [
        "# Skewness of amounts\n",
        "df1=df.groupby(pd.Grouper(('currency_name'))).skew()\n",
        "df2 =df1['amount_usd']\n",
        "df2"
      ],
      "execution_count": 0,
      "outputs": [
        {
          "output_type": "execute_result",
          "data": {
            "text/plain": [
              "currency_name\n",
              "PERU - NUEVO SOL                   74.907503\n",
              "UNITED STATES - DOLLAR             76.297093\n",
              "SOUTH AFRICA - RAND                 9.029981\n",
              "MADAGASCAR - ARIARY                 1.798836\n",
              "NIGERIA - NAIRA                     7.619767\n",
              "                                     ...    \n",
              "ZAMBIA - NEW KWACHA                      NaN\n",
              "BULGARIA - LEV                      3.450887\n",
              "SERBIA MONTENEGRO - DINAR          -0.000289\n",
              "GRENADA - EAST CARIBBEAN DOLLAR     7.016196\n",
              "BOSNIA-HERCEGOVINA DO NOT USE       2.776258\n",
              "Name: amount_usd, Length: 74, dtype: float64"
            ]
          },
          "metadata": {
            "tags": []
          },
          "execution_count": 100
        }
      ]
    },
    {
      "cell_type": "code",
      "metadata": {
        "id": "DJlEKlYn03iU",
        "colab_type": "code",
        "outputId": "c189e9d4-4ede-4903-a652-56898e5d88b3",
        "colab": {
          "base_uri": "https://localhost:8080/",
          "height": 497
        }
      },
      "source": [
        "df1=df.groupby(pd.Grouper(('currency_name'))).skew().plot(figsize=(10,8))"
      ],
      "execution_count": 0,
      "outputs": [
        {
          "output_type": "display_data",
          "data": {
            "image/png": "[encoded data removed]",
            "text/plain": [
              "<Figure size 720x576 with 1 Axes>"
            ]
          },
          "metadata": {
            "tags": []
          }
        }
      ]
    },
    {
      "cell_type": "code",
      "metadata": {
        "id": "QR4LqTIj-bj9",
        "colab_type": "code",
        "outputId": "8097c8e8-12fb-43f9-c6b1-76dfd4e9dd3b",
        "colab": {
          "base_uri": "https://localhost:8080/",
          "height": 238
        }
      },
      "source": [
        "# variance of amount_usd\n",
        "df1=df.groupby(pd.Grouper(('currency_name')))\n",
        "df2 =df1['amount_usd'].var()\n",
        "df2"
      ],
      "execution_count": 0,
      "outputs": [
        {
          "output_type": "execute_result",
          "data": {
            "text/plain": [
              "currency_name\n",
              "PERU - NUEVO SOL                   5.066074e+08\n",
              "UNITED STATES - DOLLAR             5.446059e+11\n",
              "SOUTH AFRICA - RAND                8.003475e+11\n",
              "MADAGASCAR - ARIARY                1.629846e+09\n",
              "NIGERIA - NAIRA                    8.288069e+09\n",
              "                                       ...     \n",
              "ZAMBIA - NEW KWACHA                         NaN\n",
              "BULGARIA - LEV                     4.966398e+10\n",
              "SERBIA MONTENEGRO - DINAR          3.404787e+11\n",
              "GRENADA - EAST CARIBBEAN DOLLAR    2.179561e+10\n",
              "BOSNIA-HERCEGOVINA DO NOT USE      3.555767e+10\n",
              "Name: amount_usd, Length: 74, dtype: float64"
            ]
          },
          "metadata": {
            "tags": []
          },
          "execution_count": 111
        }
      ]
    },
    {
      "cell_type": "code",
      "metadata": {
        "id": "ns3MqvZc-kuV",
        "colab_type": "code",
        "outputId": "d7d54f5a-d212-4ff8-9281-3d150fe3a1a2",
        "colab": {
          "base_uri": "https://localhost:8080/",
          "height": 238
        }
      },
      "source": [
        "# standard deviation of amount_usd\n",
        "df1=df.groupby(pd.Grouper(('currency_name')))\n",
        "df2 =df1['amount_usd'].std()\n",
        "df2"
      ],
      "execution_count": 0,
      "outputs": [
        {
          "output_type": "execute_result",
          "data": {
            "text/plain": [
              "currency_name\n",
              "PERU - NUEVO SOL                    22507.941102\n",
              "UNITED STATES - DOLLAR             737974.178741\n",
              "SOUTH AFRICA - RAND                894621.450353\n",
              "MADAGASCAR - ARIARY                 40371.348711\n",
              "NIGERIA - NAIRA                     91038.833730\n",
              "                                       ...      \n",
              "ZAMBIA - NEW KWACHA                          NaN\n",
              "BULGARIA - LEV                     222854.173359\n",
              "SERBIA MONTENEGRO - DINAR          583505.552150\n",
              "GRENADA - EAST CARIBBEAN DOLLAR    147633.379313\n",
              "BOSNIA-HERCEGOVINA DO NOT USE      188567.403471\n",
              "Name: amount_usd, Length: 74, dtype: float64"
            ]
          },
          "metadata": {
            "tags": []
          },
          "execution_count": 113
        }
      ]
    },
    {
      "cell_type": "code",
      "metadata": {
        "id": "x8pHzMU7-mzb",
        "colab_type": "code",
        "outputId": "f96ec448-0801-48fa-a198-2592abc4c200",
        "colab": {
          "base_uri": "https://localhost:8080/",
          "height": 235
        }
      },
      "source": [
        "# highest currency granted as loan per region\n",
        "df1=pd.pivot_table(df, index=['currency_name','region_name'],values=\"amount_usd\",aggfunc='max',fill_value=0)\n",
        "df1.sort_values(by='amount_usd', ascending=0).head(5)"
      ],
      "execution_count": 0,
      "outputs": [
        {
          "output_type": "execute_result",
          "data": {
            "text/html": [
              "<div>\n",
              "<style scoped>\n",
              "    .dataframe tbody tr th:only-of-type {\n",
              "        vertical-align: middle;\n",
              "    }\n",
              "\n",
              "    .dataframe tbody tr th {\n",
              "        vertical-align: top;\n",
              "    }\n",
              "\n",
              "    .dataframe thead th {\n",
              "        text-align: right;\n",
              "    }\n",
              "</style>\n",
              "<table border=\"1\" class=\"dataframe\">\n",
              "  <thead>\n",
              "    <tr style=\"text-align: right;\">\n",
              "      <th></th>\n",
              "      <th></th>\n",
              "      <th>amount_usd</th>\n",
              "    </tr>\n",
              "    <tr>\n",
              "      <th>currency_name</th>\n",
              "      <th>region_name</th>\n",
              "      <th></th>\n",
              "    </tr>\n",
              "  </thead>\n",
              "  <tbody>\n",
              "    <tr>\n",
              "      <th>UNITED STATES - DOLLAR</th>\n",
              "      <th>AFRICA</th>\n",
              "      <td>60000000</td>\n",
              "    </tr>\n",
              "    <tr>\n",
              "      <th>INDIA - RUPEE</th>\n",
              "      <th>ASIA</th>\n",
              "      <td>15466137</td>\n",
              "    </tr>\n",
              "    <tr>\n",
              "      <th>KENYA - SHILLING</th>\n",
              "      <th>AFRICA</th>\n",
              "      <td>11567379</td>\n",
              "    </tr>\n",
              "    <tr>\n",
              "      <th>SOUTH AFRICA - RAND</th>\n",
              "      <th>AFRICA</th>\n",
              "      <td>9806547</td>\n",
              "    </tr>\n",
              "    <tr>\n",
              "      <th>EURO ZONE - EURO</th>\n",
              "      <th>LATIN AMERICA &amp; THE CARIBBEAN</th>\n",
              "      <td>9707031</td>\n",
              "    </tr>\n",
              "  </tbody>\n",
              "</table>\n",
              "</div>"
            ],
            "text/plain": [
              "                                                      amount_usd\n",
              "currency_name          region_name                              \n",
              "UNITED STATES - DOLLAR AFRICA                           60000000\n",
              "INDIA - RUPEE          ASIA                             15466137\n",
              "KENYA - SHILLING       AFRICA                           11567379\n",
              "SOUTH AFRICA - RAND    AFRICA                            9806547\n",
              "EURO ZONE - EURO       LATIN AMERICA & THE CARIBBEAN     9707031"
            ]
          },
          "metadata": {
            "tags": []
          },
          "execution_count": 114
        }
      ]
    },
    {
      "cell_type": "markdown",
      "metadata": {
        "id": "hgEwLqY9ESFf",
        "colab_type": "text"
      },
      "source": [
        "# LEAH"
      ]
    },
    {
      "cell_type": "code",
      "metadata": {
        "id": "AkPz2z7G_G_Z",
        "colab_type": "code",
        "outputId": "46ecd9fd-776f-479e-d472-b6930a21a589",
        "colab": {
          "base_uri": "https://localhost:8080/",
          "height": 235
        }
      },
      "source": [
        "# Number of business_sectors per region\n",
        "\n",
        "df1=pd.pivot_table(df, index=['region_name'],values=\"business_sector\",aggfunc='count',fill_value=0)\n",
        "df1.sort_values(by='business_sector', ascending=0).head(5)"
      ],
      "execution_count": 0,
      "outputs": [
        {
          "output_type": "execute_result",
          "data": {
            "text/html": [
              "<div>\n",
              "<style scoped>\n",
              "    .dataframe tbody tr th:only-of-type {\n",
              "        vertical-align: middle;\n",
              "    }\n",
              "\n",
              "    .dataframe tbody tr th {\n",
              "        vertical-align: top;\n",
              "    }\n",
              "\n",
              "    .dataframe thead th {\n",
              "        text-align: right;\n",
              "    }\n",
              "</style>\n",
              "<table border=\"1\" class=\"dataframe\">\n",
              "  <thead>\n",
              "    <tr style=\"text-align: right;\">\n",
              "      <th></th>\n",
              "      <th>business_sector</th>\n",
              "    </tr>\n",
              "    <tr>\n",
              "      <th>region_name</th>\n",
              "      <th></th>\n",
              "    </tr>\n",
              "  </thead>\n",
              "  <tbody>\n",
              "    <tr>\n",
              "      <th>LATIN AMERICA &amp; THE CARIBBEAN</th>\n",
              "      <td>94817</td>\n",
              "    </tr>\n",
              "    <tr>\n",
              "      <th>ASIA</th>\n",
              "      <td>15614</td>\n",
              "    </tr>\n",
              "    <tr>\n",
              "      <th>AFRICA</th>\n",
              "      <td>14925</td>\n",
              "    </tr>\n",
              "    <tr>\n",
              "      <th>EUROPE &amp; EURASIA</th>\n",
              "      <td>9395</td>\n",
              "    </tr>\n",
              "    <tr>\n",
              "      <th>MIDDLE EAST</th>\n",
              "      <td>103</td>\n",
              "    </tr>\n",
              "  </tbody>\n",
              "</table>\n",
              "</div>"
            ],
            "text/plain": [
              "                               business_sector\n",
              "region_name                                   \n",
              "LATIN AMERICA & THE CARIBBEAN            94817\n",
              "ASIA                                     15614\n",
              "AFRICA                                   14925\n",
              "EUROPE & EURASIA                          9395\n",
              "MIDDLE EAST                                103"
            ]
          },
          "metadata": {
            "tags": []
          },
          "execution_count": 115
        }
      ]
    },
    {
      "cell_type": "code",
      "metadata": {
        "id": "RUwPqCsg4Cjn",
        "colab_type": "code",
        "outputId": "c3ad3eb3-68b0-4939-8b13-fc3219306a12",
        "colab": {
          "base_uri": "https://localhost:8080/",
          "height": 660
        }
      },
      "source": [
        "#@title Default title text\n",
        "df1=pd.pivot_table(df, index=['region_name'],values=\"business_sector\",aggfunc='count',fill_value=0).plot.bar(figsize=(10,8))"
      ],
      "execution_count": 0,
      "outputs": [
        {
          "output_type": "display_data",
          "data": {
            "image/png": "[encoded data removed]",
            "text/plain": [
              "<Figure size 720x576 with 1 Axes>"
            ]
          },
          "metadata": {
            "tags": []
          }
        }
      ]
    },
    {
      "cell_type": "code",
      "metadata": {
        "id": "5SvBHeLUEa1a",
        "colab_type": "code",
        "outputId": "1e048025-0fc3-49e6-dce8-6db490c4f9af",
        "colab": {
          "base_uri": "https://localhost:8080/",
          "height": 479
        }
      },
      "source": [
        "# extrating the year value from the disbursement date column\n",
        "df['year'] = pd.DatetimeIndex(df['disbursement_date']).year\n",
        "df.head()"
      ],
      "execution_count": 0,
      "outputs": [
        {
          "output_type": "execute_result",
          "data": {
            "text/html": [
              "<div>\n",
              "<style scoped>\n",
              "    .dataframe tbody tr th:only-of-type {\n",
              "        vertical-align: middle;\n",
              "    }\n",
              "\n",
              "    .dataframe tbody tr th {\n",
              "        vertical-align: top;\n",
              "    }\n",
              "\n",
              "    .dataframe thead th {\n",
              "        text-align: right;\n",
              "    }\n",
              "</style>\n",
              "<table border=\"1\" class=\"dataframe\">\n",
              "  <thead>\n",
              "    <tr style=\"text-align: right;\">\n",
              "      <th></th>\n",
              "      <th>guarantee_number</th>\n",
              "      <th>transaction_report_id</th>\n",
              "      <th>guarantee_country_name</th>\n",
              "      <th>amount_usd</th>\n",
              "      <th>currency_name</th>\n",
              "      <th>disbursement_date</th>\n",
              "      <th>end_date</th>\n",
              "      <th>business_sector</th>\n",
              "      <th>city/town</th>\n",
              "      <th>state/province/region_name</th>\n",
              "      <th>state/province/region_code</th>\n",
              "      <th>state/province/region_country_name</th>\n",
              "      <th>region_name</th>\n",
              "      <th>is_woman_owned?</th>\n",
              "      <th>is_first_time_borrower?</th>\n",
              "      <th>verifier</th>\n",
              "      <th>year</th>\n",
              "    </tr>\n",
              "  </thead>\n",
              "  <tbody>\n",
              "    <tr>\n",
              "      <th>0</th>\n",
              "      <td>099-DCA-09-006A (Asociacion Arariwa)</td>\n",
              "      <td>356191</td>\n",
              "      <td>Worldwide</td>\n",
              "      <td>980144</td>\n",
              "      <td>PERU - NUEVO SOL</td>\n",
              "      <td>2011-09-20</td>\n",
              "      <td>2013-09-09</td>\n",
              "      <td>Agriculture</td>\n",
              "      <td>Cusco</td>\n",
              "      <td>Cusco</td>\n",
              "      <td>PE08</td>\n",
              "      <td>Peru</td>\n",
              "      <td>LATIN AMERICA &amp; THE CARIBBEAN</td>\n",
              "      <td>0</td>\n",
              "      <td>1</td>\n",
              "      <td>True</td>\n",
              "      <td>2011</td>\n",
              "    </tr>\n",
              "    <tr>\n",
              "      <th>1</th>\n",
              "      <td>099-DCA-09-006B (Pro Mujer Peru)</td>\n",
              "      <td>331620</td>\n",
              "      <td>Worldwide</td>\n",
              "      <td>1960288</td>\n",
              "      <td>PERU - NUEVO SOL</td>\n",
              "      <td>2011-09-20</td>\n",
              "      <td>2014-09-04</td>\n",
              "      <td>Agriculture</td>\n",
              "      <td>Puno</td>\n",
              "      <td>Puno</td>\n",
              "      <td>PE21</td>\n",
              "      <td>Peru</td>\n",
              "      <td>LATIN AMERICA &amp; THE CARIBBEAN</td>\n",
              "      <td>0</td>\n",
              "      <td>0</td>\n",
              "      <td>True</td>\n",
              "      <td>2011</td>\n",
              "    </tr>\n",
              "    <tr>\n",
              "      <th>2</th>\n",
              "      <td>099-DCA-09-006C (ProEmpresa)</td>\n",
              "      <td>349835</td>\n",
              "      <td>Worldwide</td>\n",
              "      <td>2007490</td>\n",
              "      <td>PERU - NUEVO SOL</td>\n",
              "      <td>2012-01-18</td>\n",
              "      <td>2013-08-05</td>\n",
              "      <td>Agriculture</td>\n",
              "      <td>Lima</td>\n",
              "      <td>Lima</td>\n",
              "      <td>PE15</td>\n",
              "      <td>Peru</td>\n",
              "      <td>LATIN AMERICA &amp; THE CARIBBEAN</td>\n",
              "      <td>0</td>\n",
              "      <td>1</td>\n",
              "      <td>True</td>\n",
              "      <td>2012</td>\n",
              "    </tr>\n",
              "    <tr>\n",
              "      <th>3</th>\n",
              "      <td>099-DCA-09-006F (COCLA)</td>\n",
              "      <td>473058</td>\n",
              "      <td>Worldwide</td>\n",
              "      <td>1780000</td>\n",
              "      <td>UNITED STATES - DOLLAR</td>\n",
              "      <td>2012-08-15</td>\n",
              "      <td>2014-08-20</td>\n",
              "      <td>Agriculture</td>\n",
              "      <td>Cusco</td>\n",
              "      <td>Cusco</td>\n",
              "      <td>PE08</td>\n",
              "      <td>Peru</td>\n",
              "      <td>LATIN AMERICA &amp; THE CARIBBEAN</td>\n",
              "      <td>0</td>\n",
              "      <td>0</td>\n",
              "      <td>True</td>\n",
              "      <td>2012</td>\n",
              "    </tr>\n",
              "    <tr>\n",
              "      <th>4</th>\n",
              "      <td>099-DCA-09-006G (Manuela Ramos)</td>\n",
              "      <td>420674</td>\n",
              "      <td>Worldwide</td>\n",
              "      <td>1158301</td>\n",
              "      <td>PERU - NUEVO SOL</td>\n",
              "      <td>2012-11-28</td>\n",
              "      <td>2014-11-28</td>\n",
              "      <td>Agriculture</td>\n",
              "      <td>Lima</td>\n",
              "      <td>Lima</td>\n",
              "      <td>PE15</td>\n",
              "      <td>Peru</td>\n",
              "      <td>LATIN AMERICA &amp; THE CARIBBEAN</td>\n",
              "      <td>0</td>\n",
              "      <td>0</td>\n",
              "      <td>True</td>\n",
              "      <td>2012</td>\n",
              "    </tr>\n",
              "  </tbody>\n",
              "</table>\n",
              "</div>"
            ],
            "text/plain": [
              "                       guarantee_number  transaction_report_id  ... verifier  year\n",
              "0  099-DCA-09-006A (Asociacion Arariwa)                 356191  ...     True  2011\n",
              "1      099-DCA-09-006B (Pro Mujer Peru)                 331620  ...     True  2011\n",
              "2          099-DCA-09-006C (ProEmpresa)                 349835  ...     True  2012\n",
              "3               099-DCA-09-006F (COCLA)                 473058  ...     True  2012\n",
              "4       099-DCA-09-006G (Manuela Ramos)                 420674  ...     True  2012\n",
              "\n",
              "[5 rows x 17 columns]"
            ]
          },
          "metadata": {
            "tags": []
          },
          "execution_count": 125
        }
      ]
    },
    {
      "cell_type": "code",
      "metadata": {
        "id": "nZEMjpi9F3dF",
        "colab_type": "code",
        "outputId": "d2cc2164-4c74-42de-c4bf-47ce8f5cd039",
        "colab": {
          "base_uri": "https://localhost:8080/",
          "height": 235
        }
      },
      "source": [
        "# number of bussiness sectors per year\n",
        "df1=pd.pivot_table(df, index=['year'],values=\"business_sector\",aggfunc='count',fill_value=0)\n",
        "df1.sort_values(by='business_sector', ascending=0).head(5)\n"
      ],
      "execution_count": 0,
      "outputs": [
        {
          "output_type": "execute_result",
          "data": {
            "text/html": [
              "<div>\n",
              "<style scoped>\n",
              "    .dataframe tbody tr th:only-of-type {\n",
              "        vertical-align: middle;\n",
              "    }\n",
              "\n",
              "    .dataframe tbody tr th {\n",
              "        vertical-align: top;\n",
              "    }\n",
              "\n",
              "    .dataframe thead th {\n",
              "        text-align: right;\n",
              "    }\n",
              "</style>\n",
              "<table border=\"1\" class=\"dataframe\">\n",
              "  <thead>\n",
              "    <tr style=\"text-align: right;\">\n",
              "      <th></th>\n",
              "      <th>business_sector</th>\n",
              "    </tr>\n",
              "    <tr>\n",
              "      <th>year</th>\n",
              "      <th></th>\n",
              "    </tr>\n",
              "  </thead>\n",
              "  <tbody>\n",
              "    <tr>\n",
              "      <th>2006</th>\n",
              "      <td>15968</td>\n",
              "    </tr>\n",
              "    <tr>\n",
              "      <th>2014</th>\n",
              "      <td>15436</td>\n",
              "    </tr>\n",
              "    <tr>\n",
              "      <th>2012</th>\n",
              "      <td>15188</td>\n",
              "    </tr>\n",
              "    <tr>\n",
              "      <th>2011</th>\n",
              "      <td>13550</td>\n",
              "    </tr>\n",
              "    <tr>\n",
              "      <th>2013</th>\n",
              "      <td>10942</td>\n",
              "    </tr>\n",
              "  </tbody>\n",
              "</table>\n",
              "</div>"
            ],
            "text/plain": [
              "      business_sector\n",
              "year                 \n",
              "2006            15968\n",
              "2014            15436\n",
              "2012            15188\n",
              "2011            13550\n",
              "2013            10942"
            ]
          },
          "metadata": {
            "tags": []
          },
          "execution_count": 131
        }
      ]
    },
    {
      "cell_type": "code",
      "metadata": {
        "id": "-ZUS1gtt6_2D",
        "colab_type": "code",
        "outputId": "6ee95749-1f1e-439f-932c-c3988d633b38",
        "colab": {
          "base_uri": "https://localhost:8080/",
          "height": 529
        }
      },
      "source": [
        "df1.plot.bar(figsize=(15,8))"
      ],
      "execution_count": 0,
      "outputs": [
        {
          "output_type": "execute_result",
          "data": {
            "text/plain": [
              "<matplotlib.axes._subplots.AxesSubplot at 0x7f1c49561e48>"
            ]
          },
          "metadata": {
            "tags": []
          },
          "execution_count": 130
        },
        {
          "output_type": "display_data",
          "data": {
            "image/png": "[encoded data removed]",
            "text/plain": [
              "<Figure size 1080x576 with 1 Axes>"
            ]
          },
          "metadata": {
            "tags": []
          }
        }
      ]
    },
    {
      "cell_type": "code",
      "metadata": {
        "id": "RxO1hDExLIoY",
        "colab_type": "code",
        "outputId": "bfeabb82-053b-4d9c-fc90-a6499460ed2c",
        "colab": {
          "base_uri": "https://localhost:8080/",
          "height": 796
        }
      },
      "source": [
        "# duration of the repayment period\n",
        "df['end_date'] = pd.to_datetime(df['end_date'])\n",
        "df['disbursement_date'] = pd.to_datetime(df['disbursement_date'])\n",
        "df['date diff'] =  df['end_date'] - df['disbursement_date']\n",
        "df"
      ],
      "execution_count": 0,
      "outputs": [
        {
          "output_type": "execute_result",
          "data": {
            "text/html": [
              "<div>\n",
              "<style scoped>\n",
              "    .dataframe tbody tr th:only-of-type {\n",
              "        vertical-align: middle;\n",
              "    }\n",
              "\n",
              "    .dataframe tbody tr th {\n",
              "        vertical-align: top;\n",
              "    }\n",
              "\n",
              "    .dataframe thead th {\n",
              "        text-align: right;\n",
              "    }\n",
              "</style>\n",
              "<table border=\"1\" class=\"dataframe\">\n",
              "  <thead>\n",
              "    <tr style=\"text-align: right;\">\n",
              "      <th></th>\n",
              "      <th>guarantee_number</th>\n",
              "      <th>transaction_report_id</th>\n",
              "      <th>guarantee_country_name</th>\n",
              "      <th>amount_usd</th>\n",
              "      <th>currency_name</th>\n",
              "      <th>disbursement_date</th>\n",
              "      <th>end_date</th>\n",
              "      <th>business_sector</th>\n",
              "      <th>city/town</th>\n",
              "      <th>state/province/region_name</th>\n",
              "      <th>state/province/region_code</th>\n",
              "      <th>state/province/region_country_name</th>\n",
              "      <th>region_name</th>\n",
              "      <th>is_woman_owned?</th>\n",
              "      <th>is_first_time_borrower?</th>\n",
              "      <th>verifier</th>\n",
              "      <th>year</th>\n",
              "      <th>date diff</th>\n",
              "    </tr>\n",
              "  </thead>\n",
              "  <tbody>\n",
              "    <tr>\n",
              "      <th>0</th>\n",
              "      <td>099-DCA-09-006A (Asociacion Arariwa)</td>\n",
              "      <td>356191</td>\n",
              "      <td>Worldwide</td>\n",
              "      <td>980144</td>\n",
              "      <td>PERU - NUEVO SOL</td>\n",
              "      <td>2011-09-20</td>\n",
              "      <td>2013-09-09</td>\n",
              "      <td>Agriculture</td>\n",
              "      <td>Cusco</td>\n",
              "      <td>Cusco</td>\n",
              "      <td>PE08</td>\n",
              "      <td>Peru</td>\n",
              "      <td>LATIN AMERICA &amp; THE CARIBBEAN</td>\n",
              "      <td>0</td>\n",
              "      <td>1</td>\n",
              "      <td>True</td>\n",
              "      <td>2011</td>\n",
              "      <td>720 days</td>\n",
              "    </tr>\n",
              "    <tr>\n",
              "      <th>1</th>\n",
              "      <td>099-DCA-09-006B (Pro Mujer Peru)</td>\n",
              "      <td>331620</td>\n",
              "      <td>Worldwide</td>\n",
              "      <td>1960288</td>\n",
              "      <td>PERU - NUEVO SOL</td>\n",
              "      <td>2011-09-20</td>\n",
              "      <td>2014-09-04</td>\n",
              "      <td>Agriculture</td>\n",
              "      <td>Puno</td>\n",
              "      <td>Puno</td>\n",
              "      <td>PE21</td>\n",
              "      <td>Peru</td>\n",
              "      <td>LATIN AMERICA &amp; THE CARIBBEAN</td>\n",
              "      <td>0</td>\n",
              "      <td>0</td>\n",
              "      <td>True</td>\n",
              "      <td>2011</td>\n",
              "      <td>1080 days</td>\n",
              "    </tr>\n",
              "    <tr>\n",
              "      <th>2</th>\n",
              "      <td>099-DCA-09-006C (ProEmpresa)</td>\n",
              "      <td>349835</td>\n",
              "      <td>Worldwide</td>\n",
              "      <td>2007490</td>\n",
              "      <td>PERU - NUEVO SOL</td>\n",
              "      <td>2012-01-18</td>\n",
              "      <td>2013-08-05</td>\n",
              "      <td>Agriculture</td>\n",
              "      <td>Lima</td>\n",
              "      <td>Lima</td>\n",
              "      <td>PE15</td>\n",
              "      <td>Peru</td>\n",
              "      <td>LATIN AMERICA &amp; THE CARIBBEAN</td>\n",
              "      <td>0</td>\n",
              "      <td>1</td>\n",
              "      <td>True</td>\n",
              "      <td>2012</td>\n",
              "      <td>565 days</td>\n",
              "    </tr>\n",
              "    <tr>\n",
              "      <th>3</th>\n",
              "      <td>099-DCA-09-006F (COCLA)</td>\n",
              "      <td>473058</td>\n",
              "      <td>Worldwide</td>\n",
              "      <td>1780000</td>\n",
              "      <td>UNITED STATES - DOLLAR</td>\n",
              "      <td>2012-08-15</td>\n",
              "      <td>2014-08-20</td>\n",
              "      <td>Agriculture</td>\n",
              "      <td>Cusco</td>\n",
              "      <td>Cusco</td>\n",
              "      <td>PE08</td>\n",
              "      <td>Peru</td>\n",
              "      <td>LATIN AMERICA &amp; THE CARIBBEAN</td>\n",
              "      <td>0</td>\n",
              "      <td>0</td>\n",
              "      <td>True</td>\n",
              "      <td>2012</td>\n",
              "      <td>735 days</td>\n",
              "    </tr>\n",
              "    <tr>\n",
              "      <th>4</th>\n",
              "      <td>099-DCA-09-006G (Manuela Ramos)</td>\n",
              "      <td>420674</td>\n",
              "      <td>Worldwide</td>\n",
              "      <td>1158301</td>\n",
              "      <td>PERU - NUEVO SOL</td>\n",
              "      <td>2012-11-28</td>\n",
              "      <td>2014-11-28</td>\n",
              "      <td>Agriculture</td>\n",
              "      <td>Lima</td>\n",
              "      <td>Lima</td>\n",
              "      <td>PE15</td>\n",
              "      <td>Peru</td>\n",
              "      <td>LATIN AMERICA &amp; THE CARIBBEAN</td>\n",
              "      <td>0</td>\n",
              "      <td>0</td>\n",
              "      <td>True</td>\n",
              "      <td>2012</td>\n",
              "      <td>730 days</td>\n",
              "    </tr>\n",
              "    <tr>\n",
              "      <th>...</th>\n",
              "      <td>...</td>\n",
              "      <td>...</td>\n",
              "      <td>...</td>\n",
              "      <td>...</td>\n",
              "      <td>...</td>\n",
              "      <td>...</td>\n",
              "      <td>...</td>\n",
              "      <td>...</td>\n",
              "      <td>...</td>\n",
              "      <td>...</td>\n",
              "      <td>...</td>\n",
              "      <td>...</td>\n",
              "      <td>...</td>\n",
              "      <td>...</td>\n",
              "      <td>...</td>\n",
              "      <td>...</td>\n",
              "      <td>...</td>\n",
              "      <td>...</td>\n",
              "    </tr>\n",
              "    <tr>\n",
              "      <th>134849</th>\n",
              "      <td>620-DCA-06-001</td>\n",
              "      <td>271668</td>\n",
              "      <td>Nigeria</td>\n",
              "      <td>67998</td>\n",
              "      <td>NIGERIA - NAIRA</td>\n",
              "      <td>2008-08-01</td>\n",
              "      <td>2018-08-01</td>\n",
              "      <td>Agriculture</td>\n",
              "      <td>Abuja</td>\n",
              "      <td>Nigeria (general)</td>\n",
              "      <td>NI00</td>\n",
              "      <td>Nigeria</td>\n",
              "      <td>AFRICA</td>\n",
              "      <td>0</td>\n",
              "      <td>0</td>\n",
              "      <td>True</td>\n",
              "      <td>2008</td>\n",
              "      <td>3652 days</td>\n",
              "    </tr>\n",
              "    <tr>\n",
              "      <th>134850</th>\n",
              "      <td>620-DCA-06-001</td>\n",
              "      <td>271670</td>\n",
              "      <td>Nigeria</td>\n",
              "      <td>67998</td>\n",
              "      <td>NIGERIA - NAIRA</td>\n",
              "      <td>2008-08-08</td>\n",
              "      <td>2014-08-08</td>\n",
              "      <td>Agriculture</td>\n",
              "      <td>Enugu</td>\n",
              "      <td>Enugu</td>\n",
              "      <td>NI47</td>\n",
              "      <td>Nigeria</td>\n",
              "      <td>AFRICA</td>\n",
              "      <td>0</td>\n",
              "      <td>0</td>\n",
              "      <td>True</td>\n",
              "      <td>2008</td>\n",
              "      <td>2191 days</td>\n",
              "    </tr>\n",
              "    <tr>\n",
              "      <th>134851</th>\n",
              "      <td>620-DCA-06-001</td>\n",
              "      <td>271671</td>\n",
              "      <td>Nigeria</td>\n",
              "      <td>67998</td>\n",
              "      <td>NIGERIA - NAIRA</td>\n",
              "      <td>2008-08-11</td>\n",
              "      <td>2018-08-11</td>\n",
              "      <td>Agriculture</td>\n",
              "      <td>Onitsha</td>\n",
              "      <td>Anambra</td>\n",
              "      <td>NI25</td>\n",
              "      <td>Nigeria</td>\n",
              "      <td>AFRICA</td>\n",
              "      <td>0</td>\n",
              "      <td>0</td>\n",
              "      <td>True</td>\n",
              "      <td>2008</td>\n",
              "      <td>3652 days</td>\n",
              "    </tr>\n",
              "    <tr>\n",
              "      <th>134852</th>\n",
              "      <td>620-DCA-06-001</td>\n",
              "      <td>271672</td>\n",
              "      <td>Nigeria</td>\n",
              "      <td>67998</td>\n",
              "      <td>NIGERIA - NAIRA</td>\n",
              "      <td>2008-08-15</td>\n",
              "      <td>2018-08-15</td>\n",
              "      <td>Agriculture</td>\n",
              "      <td>Lagos</td>\n",
              "      <td>Lagos</td>\n",
              "      <td>NI05</td>\n",
              "      <td>Nigeria</td>\n",
              "      <td>AFRICA</td>\n",
              "      <td>0</td>\n",
              "      <td>0</td>\n",
              "      <td>True</td>\n",
              "      <td>2008</td>\n",
              "      <td>3652 days</td>\n",
              "    </tr>\n",
              "    <tr>\n",
              "      <th>134853</th>\n",
              "      <td>620-DCA-06-001</td>\n",
              "      <td>271674</td>\n",
              "      <td>Nigeria</td>\n",
              "      <td>67998</td>\n",
              "      <td>NIGERIA - NAIRA</td>\n",
              "      <td>2008-08-20</td>\n",
              "      <td>2015-08-20</td>\n",
              "      <td>Agriculture</td>\n",
              "      <td>Abuja</td>\n",
              "      <td>Nigeria (general)</td>\n",
              "      <td>NI00</td>\n",
              "      <td>Nigeria</td>\n",
              "      <td>AFRICA</td>\n",
              "      <td>0</td>\n",
              "      <td>0</td>\n",
              "      <td>True</td>\n",
              "      <td>2008</td>\n",
              "      <td>2556 days</td>\n",
              "    </tr>\n",
              "  </tbody>\n",
              "</table>\n",
              "<p>134854 rows × 18 columns</p>\n",
              "</div>"
            ],
            "text/plain": [
              "                            guarantee_number  ...  date diff\n",
              "0       099-DCA-09-006A (Asociacion Arariwa)  ...   720 days\n",
              "1           099-DCA-09-006B (Pro Mujer Peru)  ...  1080 days\n",
              "2               099-DCA-09-006C (ProEmpresa)  ...   565 days\n",
              "3                    099-DCA-09-006F (COCLA)  ...   735 days\n",
              "4            099-DCA-09-006G (Manuela Ramos)  ...   730 days\n",
              "...                                      ...  ...        ...\n",
              "134849                        620-DCA-06-001  ...  3652 days\n",
              "134850                        620-DCA-06-001  ...  2191 days\n",
              "134851                        620-DCA-06-001  ...  3652 days\n",
              "134852                        620-DCA-06-001  ...  3652 days\n",
              "134853                        620-DCA-06-001  ...  2556 days\n",
              "\n",
              "[134854 rows x 18 columns]"
            ]
          },
          "metadata": {
            "tags": []
          },
          "execution_count": 132
        }
      ]
    },
    {
      "cell_type": "markdown",
      "metadata": {
        "id": "J5vvTPKuEhjr",
        "colab_type": "text"
      },
      "source": [
        "#JASLINE\n",
        "\n"
      ]
    },
    {
      "cell_type": "code",
      "metadata": {
        "id": "tw_8ausfNIbM",
        "colab_type": "code",
        "outputId": "904ff646-ee01-4eb1-b080-59b28138e396",
        "colab": {
          "base_uri": "https://localhost:8080/",
          "height": 235
        }
      },
      "source": [
        "# duration taken to pay the loan\n",
        "# and the amount paid\n",
        "df1=pd.pivot_table(df, index=['date diff'],values=\"amount_usd\",aggfunc='max',fill_value=0)\n",
        "df1.sort_values(by='amount_usd', ascending=0).head()"
      ],
      "execution_count": 0,
      "outputs": [
        {
          "output_type": "execute_result",
          "data": {
            "text/html": [
              "<div>\n",
              "<style scoped>\n",
              "    .dataframe tbody tr th:only-of-type {\n",
              "        vertical-align: middle;\n",
              "    }\n",
              "\n",
              "    .dataframe tbody tr th {\n",
              "        vertical-align: top;\n",
              "    }\n",
              "\n",
              "    .dataframe thead th {\n",
              "        text-align: right;\n",
              "    }\n",
              "</style>\n",
              "<table border=\"1\" class=\"dataframe\">\n",
              "  <thead>\n",
              "    <tr style=\"text-align: right;\">\n",
              "      <th></th>\n",
              "      <th>amount_usd</th>\n",
              "    </tr>\n",
              "    <tr>\n",
              "      <th>date diff</th>\n",
              "      <th></th>\n",
              "    </tr>\n",
              "  </thead>\n",
              "  <tbody>\n",
              "    <tr>\n",
              "      <th>2554 days</th>\n",
              "      <td>60000000</td>\n",
              "    </tr>\n",
              "    <tr>\n",
              "      <th>3562 days</th>\n",
              "      <td>15466137</td>\n",
              "    </tr>\n",
              "    <tr>\n",
              "      <th>689 days</th>\n",
              "      <td>11784084</td>\n",
              "    </tr>\n",
              "    <tr>\n",
              "      <th>2191 days</th>\n",
              "      <td>11567379</td>\n",
              "    </tr>\n",
              "    <tr>\n",
              "      <th>1827 days</th>\n",
              "      <td>9806547</td>\n",
              "    </tr>\n",
              "  </tbody>\n",
              "</table>\n",
              "</div>"
            ],
            "text/plain": [
              "           amount_usd\n",
              "date diff            \n",
              "2554 days    60000000\n",
              "3562 days    15466137\n",
              "689 days     11784084\n",
              "2191 days    11567379\n",
              "1827 days     9806547"
            ]
          },
          "metadata": {
            "tags": []
          },
          "execution_count": 142
        }
      ]
    },
    {
      "cell_type": "code",
      "metadata": {
        "id": "AP_0HfQ0-q2K",
        "colab_type": "code",
        "outputId": "b08f44be-6264-4ab1-b7db-e64a3bd39392",
        "colab": {
          "base_uri": "https://localhost:8080/",
          "height": 136
        }
      },
      "source": [
        "#Mostly funded region\n",
        "df1=df.groupby(pd.Grouper(('region_name')))\n",
        "df2=df1['amount_usd'].sum().sort_values\n",
        "df2"
      ],
      "execution_count": 0,
      "outputs": [
        {
          "output_type": "execute_result",
          "data": {
            "text/plain": [
              "<bound method Series.sort_values of region_name\n",
              "LATIN AMERICA & THE CARIBBEAN    366709337\n",
              "AFRICA                           510363823\n",
              "EUROPE & EURASIA                 254025198\n",
              "ASIA                             256671590\n",
              "MIDDLE EAST                       30218611\n",
              "Name: amount_usd, dtype: int64>"
            ]
          },
          "metadata": {
            "tags": []
          },
          "execution_count": 160
        }
      ]
    },
    {
      "cell_type": "code",
      "metadata": {
        "id": "EjcWg14YEobs",
        "colab_type": "code",
        "outputId": "e0b2881f-357f-48fe-a08c-7d45adcb842f",
        "colab": {
          "base_uri": "https://localhost:8080/",
          "height": 688
        }
      },
      "source": [
        "#Mostly funded region\n",
        "df1=df.groupby(pd.Grouper(('region_name')))\n",
        "df2=df1['amount_usd'].sum()\n",
        "df2.plot.bar(figsize=(10,8))"
      ],
      "execution_count": 0,
      "outputs": [
        {
          "output_type": "execute_result",
          "data": {
            "text/plain": [
              "<matplotlib.axes._subplots.AxesSubplot at 0x7f1c495a7470>"
            ]
          },
          "metadata": {
            "tags": []
          },
          "execution_count": 159
        },
        {
          "output_type": "display_data",
          "data": {
            "image/png": "[encoded data removed]",
            "text/plain": [
              "<Figure size 720x576 with 1 Axes>"
            ]
          },
          "metadata": {
            "tags": []
          }
        }
      ]
    },
    {
      "cell_type": "code",
      "metadata": {
        "id": "axbfhadOICE1",
        "colab_type": "code",
        "outputId": "049040a1-0c67-4b9a-b3cd-1e651f409a90",
        "colab": {
          "base_uri": "https://localhost:8080/",
          "height": 1000
        }
      },
      "source": [
        "#identifying the unique entries the guarantee_number column \n",
        "#\n",
        "df['guarantee_number'].unique()"
      ],
      "execution_count": 0,
      "outputs": [
        {
          "output_type": "execute_result",
          "data": {
            "text/plain": [
              "array(['099-DCA-09-006A (Asociacion Arariwa)',\n",
              "       '099-DCA-09-006B (Pro Mujer Peru)', '099-DCA-09-006C (ProEmpresa)',\n",
              "       '099-DCA-09-006F (COCLA)', '099-DCA-09-006G (Manuela Ramos)',\n",
              "       '674-DCA-11-016', '687-DCA-15-001', '112-DCA-10-01A',\n",
              "       '620-DCA-10-004', '521-DCA-08-05', '615-DCA-12-014',\n",
              "       '663-DCA-17-013', '306-DCA-12-002', '611-DCA-08-008',\n",
              "       '615-DCA-13-019 (Jamii Bora Re-Guarantee)', '669-DCA-15-003',\n",
              "       'DCA617A020001', '099-DCA-14-012', '099-DCA-08-004B (Termination)',\n",
              "       '442-DCA-17-002A', '099-DCA-08-004A (Terminated)',\n",
              "       '111-DCA-12-009B (Terminated)', 'DCA-LA-440-006-03-001',\n",
              "       '625-DCA-13-001', '522-DCA-2003-003', '663-DCA-04-001',\n",
              "       '116-DCA-15-004B', 'ProArca DCA-596-0185-0300 ALPG 001E',\n",
              "       '52004250300ALPG001(Terminated)', '5200425DCA01(Terminated)',\n",
              "       '514-DCA-10-002', '117-DCA-LPG-03-00001', 'DCA-524-02-01',\n",
              "       'ProArca DCA 596-0185-0300 ALPG 001', '517-DCA-08-001',\n",
              "       '514-DCA-17-011', '654-DCA-08-002 (Terminated)',\n",
              "       'ProArca DCA 596-0185-0300 ALPG 003', '519-DCA-05-001',\n",
              "       '519-DCA-13-004', '519-DCA-11-003', '519-DCA-17-005 (A)',\n",
              "       '654-DCA-07-001', '519-DCA-17-005(B)', '654-DCA-13-004',\n",
              "       '514-DCA-08-001', '526-DCA-16-003', '518-DCA-07-005',\n",
              "       '518-DCA-07-006', '519-DCA-05-002 (Terminated)',\n",
              "       '519-DCA-17-005(C)', '526-DCA-08-001', '518-DCA-04-003',\n",
              "       '656-DCA-10-003', '656-DCA-11-005 (Sida)', '656-DCA-18-009',\n",
              "       '656-DCA-14-007 (B)', '522-DCA-06-006', '167-DCA-11-003A',\n",
              "       '167-DCA-12-004A', '391-DCA-14-001A', '497-DCA-10-003',\n",
              "       '497-DCA-10-005B', '497-DCA-11-006', '497-DCA-13-010',\n",
              "       '497-DCA-05-002', '121-DCA-13-004', '497-DCA-10-005A',\n",
              "       '497-DCA-10-005C', '663-DCA-04-002', '663-DCA-08-004',\n",
              "       '663-DCA-08-005(A)', '663-DCA-11-006(A) PEPFAR',\n",
              "       '663-DCA-11-007(A) (Terminated)',\n",
              "       '688-DCA-14-003(A) (Sida co-guarantee)', '617-DCA-10-001',\n",
              "       '278-DCA-05-001', '294-DCA-05-001 (Terminated)', '492-DCA-12-004A',\n",
              "       '112-DCA-12-002', '524-DCA-04-002 (MicroEnt)', '696-DCA-04-001',\n",
              "       '524-DCA-04-005 (Health)', '524-DCA-13-007', '696-DCA-06-002',\n",
              "       '660-DCA-11-002', '696-DCA-11-007', '696-DCA-16-008',\n",
              "       '520-DCA-06-004/5', '520-DCA-11-006',\n",
              "       '525-DCA-LPG-04-001 (Terminated)', '633-DCA-14-001',\n",
              "       'DCA617A020002', '611-DCA-04-001(Terminated)', '611-DCA-06-006',\n",
              "       '114-DCA-10-007 (Terminated)', '656-DCA-06-001 (Terminated)',\n",
              "       '688-DCA-14-003(B) (Sida co-guarantee) [TERMINATED]',\n",
              "       '167-DCA-12-004B', '182-DCA-08-002(A) (Terminated)',\n",
              "       '182-DCA-12-003A', '674-DCA-09-012 (Terminated)',\n",
              "       'DCA-608-550-005 (terminated)', 'DCA-608-550-002',\n",
              "       '608-DCA-14-011A', '263-DCA-09-005 [Terminated]',\n",
              "       '492-DCA-13-005C', '492-DCA-12-004B', '388-DCA-13-003',\n",
              "       '442-DCA-17-002C', '099-DCA-14-014A (Sida co-guarantee)',\n",
              "       '521-DCA-07-03A', '386-DCA-15-009A', '521-DCA-07-04A',\n",
              "       '685-DCA-07-001 (C)', '621-DCA-15-010A',\n",
              "       '617-DCA-05-M1-LPG-001 (MSME)',\n",
              "       '617-DCA-12-017 (Sida Health Co-guarantee)', '617-DCA-12-018',\n",
              "       '617-DCA-16-022(A)', 'DCA617A020003', '118-DCA-04-003',\n",
              "       '613-DCA-15-003A', '386-DCA-16-011', '615-DCA-14-026 (Terminated)',\n",
              "       '615-DCA-14-027', '119-DCA-11-002A [Terminated]', '527-DCA-09-008',\n",
              "       '527-DCA-14-011C', '527-DCA-05-004', '117-DCA-11-008A',\n",
              "       '517-DCA-10-002B', '615-007-DCA-03-002', '517-DCA-10-002A',\n",
              "       '615-007-DCA-03-004 (SMEP)', '615-007-DCA-03-005 (Faulu)',\n",
              "       '615-DCA-16-030(B)', '663-DCA-13-008(A) (Terminated)',\n",
              "       '624-DCA-17-009A', '621-DCA-08-001 (AfDB Co-Guarantee)',\n",
              "       '621-DCA-14-007', '121-DCA-14-005D (Terminated)', '663-DCA-05-001',\n",
              "       '112-DCA-10-01B', '663-DCA-13-009 (Terminated)', '116-DCA-15-004A',\n",
              "       '386-DCA-17-014', '617-DCA-14-021  (A)',\n",
              "       '620-DCA-10-005 (Terminated)', 'DCA-LA-440-006-03-003',\n",
              "       '680-DCA-12-001', '624-DCA-12-004', '625-DCA-16-002(B)',\n",
              "       '624-DCA-07-001', '641-DCA-05-003', '641-DCA-12-006',\n",
              "       '641-DCA-14-010', 'LGA-641-0137-001', '675-DCA-12-001',\n",
              "       '669-DCA-09-001', '624-DCA-12-003', '620-DCA-12-007',\n",
              "       '620-DCA-14-008', '620-DCA-18-014', '685-DCA-11-006',\n",
              "       '617-DCA-13-019 (Sida Co-Guarantee) (Terminated)',\n",
              "       '527-DCA-05-006', '663-DCA-16-012 (Sida Co-Guarantee)',\n",
              "       '660-DCA-16-003(B) (Sida Co-Guarantee)', '160-DCA-04-S1-LPG-001',\n",
              "       '099-DCA-15-015', '625-DCA-16-002A', '641-DCA-14-009',\n",
              "       '641-DCA-15-011B', '620-DCA-06-002', '620-DCA-16-013',\n",
              "       '615-DCA-06-006', '611-DCA-04-002 (terminated)',\n",
              "       '668-DCA-12-001(C) AGRA co-guarantee (Terminated)',\n",
              "       '617-DCA-14-021(C)', '527-DCA-10-010B', '527-DCA-14-011B',\n",
              "       '526-DCA-08-002', '527-DCA-10-010C',\n",
              "       '524-DCA-04-003 (MicroEnt) (Terminated)',\n",
              "       '524-DCA-04-006 (Health) (Terminated)',\n",
              "       '660-DCA-16-003(A) (Sida Co-Guarantee)', '117-DCA-05-007',\n",
              "       '523-DCA-16-004A', '641-DCA-15-011A',\n",
              "       '641-DCA-15-011 Unallocated Reserve',\n",
              "       '613-DCA-15-002 (Sida co-guarantee)', '612-DCA-13-002',\n",
              "       '612-DCA-07-001(B)', '306-DCA-17-004',\n",
              "       '620-DCA-15-012 (Terminated)', '165-DCA-09-003A',\n",
              "       '522-DCA-2005-001', '165-DCA-16-005C', '522-DCA-2003-001',\n",
              "       '674-DCA-04-S1-LG-01 (CAPITEC)', '615-DCA-13-025 (Terminated)',\n",
              "       '099-DCA-14-013 (Terminated)', '263-DCA-11-006 (Terminated)',\n",
              "       '386-DCA-06-004 (Terminated)', '115-DCA-11-003A', '674-DCA-16-021',\n",
              "       '504-DCA-08-001', '695-DCA-08-001', '669-DCA-10-002',\n",
              "       '532-DCA-04-002', '532-DCA-08-004', '391-DCA-14-001B',\n",
              "       '391-DCA-16-002C', '115-DCA-04-002(Terminated)', '615-DCA-10-12',\n",
              "       '615-DCA-12-015 (Sida co-guarantee)', '615-DCA-15-029',\n",
              "       '615-DCA-12-017 (Water)', '615-DCA-13-018', '438-DCA-10-001 (A)',\n",
              "       'Reserve Amount (Unallocated)', '165-DCA-16-005A',\n",
              "       '116-DCA-08-002', '114-DCA-11-010A (Terminated)',\n",
              "       '116-DCA-08-003 (Terminated)',\n",
              "       'ProArca DCA-596-0185-0300-ALPG 001D',\n",
              "       '383-DCA-06-001 (TERMINATED)', '367-DCA-16-001',\n",
              "       '521-DCA-09-007A (SOCOLAVIM)', '521-DCA-09-007B (COOPECPRA)',\n",
              "       '685-DCA-13-007', '521-DCA-09-007C (KPD)',\n",
              "       '521-DCA-09-007E (KEPOMEK)', '521-DCA-09-007F (CAPOMAR)',\n",
              "       '521-DCA-09-007G (CAPOSAC)', '521-DCA-09-007H (CAPAJ)',\n",
              "       '521-DCA-09-007K (KPTAT)', '521-DCA-09-007N (CPRCM)',\n",
              "       '698-DCA-15-004', '49299G001', '492-DCA-08-003 (TERMINATED)',\n",
              "       '685-DCA-17-010', '442-DCA-12-001', '442-DCA-17-002B',\n",
              "       '611-DCA-15-011 (Sida co-guarantee)', '119-DCA-11-002B',\n",
              "       '391-DCA-16-002D', '521-DCA-15-014A', '099-DCA-17-017',\n",
              "       '492-DCA-17-006', '527-DCA-10-010A', '527-DCA-14-011A',\n",
              "       '641-DCA-08-004', '115-DCA-11-003C', '521-DCA-12-010 (Terminated)',\n",
              "       '176-DCA-16-001B', '099-DCA-10-007', '117-DCA-LPG-03-00003',\n",
              "       '117-DCA-LPG-03-00002', '117-DCA-04-005',\n",
              "       '656-DCA-14-007 (A) (Terminated)', '165-DCA-09-003B',\n",
              "       '165-DCA-16-005D', '656-DCA-10-002', '656-DCA-17-008',\n",
              "       '121-DCA-00-02-00011-00', '532-DCA-05-003',\n",
              "       '532-DCA-08-005 (Terminated)',\n",
              "       '617-DCA-09-001(Co-guarantee with Guarantco for Kalangala Infrastructure Services)',\n",
              "       '645-DCA-07-01(B)', '663-DCA-08-005(B) (Terminated)',\n",
              "       '663-DCA-11-006(B) PEPFAR', '617-DCA-05-M1-LPG-002 (MSME)',\n",
              "       'DCA617A020005', '165-DCA-07-001 (A) (SME)', '167-DCA-12-004C',\n",
              "       '168-DCA-15-009 (Sida co-guarantee)', '624-DCA-17-008',\n",
              "       '522-DCA-11-008', '099-DCA-08-005', '111-DCA-11-008A',\n",
              "       '615-DCA-08-08(A)', '624-DCA-16-007', '674-DCA-16-005',\n",
              "       '114-DCA-06-004', '674-DCA-008 [Doornkuil-Basil Read]',\n",
              "       '674-DCA-07-009 [Real People]', '492-DCA-03-LPG-001',\n",
              "       '624-DCA-14-005', '663-DCA-13-008(B)', '492-DCA-13-005D',\n",
              "       '620-DCA-07-003 (A) Terminated', 'DCA-183-LPG-03-02',\n",
              "       'DCA-388-DCA-03-LPG-001', '117-DCA-11-009',\n",
              "       '117-DCA-13-010 (Sida co-guarantee)', 'DCA-LPG-160-02-01',\n",
              "       '121-DCA-15-006', '182-DCA-12-003B', '165-DCA-15-004',\n",
              "       '167-DCA-12-004D', '168-DCA-15-010 (Sida co-guarantee)',\n",
              "       '168-DCA-16-012', '386-DCA-14-008', '386-DCA-15-009B',\n",
              "       '169-DCA-05-001 (Terminated)', '168-DCA-010-007 (Sida)',\n",
              "       '168-DCA-09-006 (Terminated)', '167-DCA-06-001', '167-DCA-11-003B',\n",
              "       '167-DCA-12-004E', '182-DCA-05-001',\n",
              "       '182-DCA-08-002(B) (Terminated)',\n",
              "       '386-DCA-16-011 [Terminated and Removed from portfolio]',\n",
              "       '386-DCA-16-012A', '532-DCA-03-LPG-001A-001 (Terminated)',\n",
              "       '543-DCA-05-001', '099-DCA-10-008', '698-DCA-05-001',\n",
              "       '698-DCA-12-001', '598-DCA-03-LPG-001',\n",
              "       '117-DCA-11-008B (Terminated)', '117-DCA-LPG-03-00004',\n",
              "       '527-DCA-03-LPG-003A (Terminated)',\n",
              "       '168-DCA-010-008 (Sida) (Terminated)', 'DCA-LPG-168-03-003 SME',\n",
              "       'DCA-118-3G-07A', '492-DCA-13-005B', '527-DCA-03-LPG-003B',\n",
              "       '527-DCA-09-009', '527-DCA-10-010D', '615-DCA-08-009',\n",
              "       '615-DCA-15-028', '641-DCA-12-007',\n",
              "       '099-DCA-14-014B (Sida co-guarantee)',\n",
              "       '608-0550-008 (Al Amana MFII/SGMB II)', 'DCA-608-550-003',\n",
              "       'DCA 608-550-004 (Zakoura MFI/SGMB)',\n",
              "       'DCA-608-550-008 (Al Amana MFII/SGMB1)',\n",
              "       'DCA-608-550-009 (Zakoura MFII/SGMB1)',\n",
              "       'DCA-608-550-009 (Zakoura MFII/SGMB2)', 'DCA 608-550-010',\n",
              "       '656-DCA-14-006 (Sida co-guarantee)', '521-DCA-04-001',\n",
              "       '521-DCA-08-06', '521-DCA-10-009', '521-DCA-12-013',\n",
              "       '521-DCA-04-002', '521-DCA-07-03B', '521-DCA-07-04B',\n",
              "       '521-DCA-10-008', '611-DCA-06-007',\n",
              "       '168-DCA-15-011 (Sida co-guarantee)',\n",
              "       '617-DCA-05-M1-LPG-005 (MSME)',\n",
              "       '617-DCA-05-M2-LPG-008 (Collateral) TERMINATED', 'DCA617A020006',\n",
              "       '612-DCA-07-001 (A)', '645-DCA-07-01 (A)',\n",
              "       '611-DCA-15-013 (Loan to ZESCO)', '497-DCA-10-004',\n",
              "       'DCA-617-A-02-0007', '613-DCA-09-001', '674-DCA-12-017',\n",
              "       '613-DCA-15-003B', '165-DCA-16-005B', '114-DCA-10-008',\n",
              "       '114-DCA-10-009 (Terminated)', '114-DCA-05-002', '114-DCA-15-012',\n",
              "       '167-DCA-11-002', '167-DCA-12-004F', '167-DCA-15-005',\n",
              "       '660-DCA-08-001', '617-DCA-14-021 (B)', '112-DCA-12-003',\n",
              "       '497-DCA-11-007', '617-DCA-05-S1-LPG-004 (MSME)',\n",
              "       '111-DCA-12-009A (Terminated)',\n",
              "       '183-DCA-05-005 (Unicredit Bulbank HVB)', 'DCA-183-LPG-03-01',\n",
              "       '168-DCA-06-005', 'DCA-LPG-168-03-002', 'DCAG00000000100',\n",
              "       'DCA-183-LPG-04-01 (Terminated)', '165-DCA-07-001 (B) (SME)',\n",
              "       '165-DCA-07-002 (B) (Energy)', 'DCA-LPG-168-03-001',\n",
              "       '696-DCA-10-005 (Terminated)', '641-DCA-13-008 (Terminated)',\n",
              "       '523-DCA-13-003', '117-DCA-04-006', '438-DCA-10-001 (B)',\n",
              "       '386-DCA-05-003', '611-DCA-09-009 (AfDB)', '611-DCA-12-010 (Sida)',\n",
              "       '611-DCA-15-012', '118-DCA-04-002 (NBD)', '663-DCA-11-007(B)',\n",
              "       '663-DCA-14-011(A)', '663-DCA-17-014', '620-DCA-06-001'],\n",
              "      dtype=object)"
            ]
          },
          "metadata": {
            "tags": []
          },
          "execution_count": 161
        }
      ]
    },
    {
      "cell_type": "code",
      "metadata": {
        "id": "38zAq4CBZgaq",
        "colab_type": "code",
        "outputId": "a4f31f0b-f50c-466a-edfd-d3b9d31af43d",
        "colab": {
          "base_uri": "https://localhost:8080/",
          "height": 238
        }
      },
      "source": [
        "#counting each unique entry in the column\n",
        "#\n",
        "df.groupby(['guarantee_number'])['guarantee_number'].count().sort_values(ascending = False)"
      ],
      "execution_count": 0,
      "outputs": [
        {
          "output_type": "execute_result",
          "data": {
            "text/plain": [
              "guarantee_number\n",
              "514-DCA-10-002                     17581\n",
              "532-DCA-04-002                     12252\n",
              "497-DCA-05-002                      8947\n",
              "532-DCA-08-004                      7452\n",
              "527-DCA-10-010B                     6098\n",
              "                                   ...  \n",
              "660-DCA-11-002                         1\n",
              "391-DCA-16-002C                        1\n",
              "391-DCA-16-002D                        1\n",
              "656-DCA-14-007 (A) (Terminated)        1\n",
              "Reserve Amount (Unallocated)           1\n",
              "Name: guarantee_number, Length: 402, dtype: int64"
            ]
          },
          "metadata": {
            "tags": []
          },
          "execution_count": 162
        }
      ]
    },
    {
      "cell_type": "code",
      "metadata": {
        "id": "y2oyl8XlaAYj",
        "colab_type": "code",
        "outputId": "2b6c1892-f8fe-40dc-96e7-b015ffce1893",
        "colab": {
          "base_uri": "https://localhost:8080/",
          "height": 966
        }
      },
      "source": [
        "#creating a unique dataframe that has the guarantee number with the most entries in the dataset\n",
        "#\n",
        "df_n = df[(df.guarantee_number == '514-DCA-10-002')]\n",
        "df_n"
      ],
      "execution_count": 0,
      "outputs": [
        {
          "output_type": "execute_result",
          "data": {
            "text/html": [
              "<div>\n",
              "<style scoped>\n",
              "    .dataframe tbody tr th:only-of-type {\n",
              "        vertical-align: middle;\n",
              "    }\n",
              "\n",
              "    .dataframe tbody tr th {\n",
              "        vertical-align: top;\n",
              "    }\n",
              "\n",
              "    .dataframe thead th {\n",
              "        text-align: right;\n",
              "    }\n",
              "</style>\n",
              "<table border=\"1\" class=\"dataframe\">\n",
              "  <thead>\n",
              "    <tr style=\"text-align: right;\">\n",
              "      <th></th>\n",
              "      <th>guarantee_number</th>\n",
              "      <th>transaction_report_id</th>\n",
              "      <th>guarantee_country_name</th>\n",
              "      <th>amount_usd</th>\n",
              "      <th>currency_name</th>\n",
              "      <th>disbursement_date</th>\n",
              "      <th>end_date</th>\n",
              "      <th>business_sector</th>\n",
              "      <th>city/town</th>\n",
              "      <th>state/province/region_name</th>\n",
              "      <th>state/province/region_code</th>\n",
              "      <th>state/province/region_country_name</th>\n",
              "      <th>region_name</th>\n",
              "      <th>is_woman_owned?</th>\n",
              "      <th>is_first_time_borrower?</th>\n",
              "      <th>verifier</th>\n",
              "      <th>year</th>\n",
              "      <th>date diff</th>\n",
              "    </tr>\n",
              "  </thead>\n",
              "  <tbody>\n",
              "    <tr>\n",
              "      <th>9992</th>\n",
              "      <td>514-DCA-10-002</td>\n",
              "      <td>313733</td>\n",
              "      <td>Colombia</td>\n",
              "      <td>456</td>\n",
              "      <td>COLOMBIA - PESO</td>\n",
              "      <td>2011-03-22</td>\n",
              "      <td>2012-06-15</td>\n",
              "      <td>Trade/Commerce</td>\n",
              "      <td>Villavicencio</td>\n",
              "      <td>Meta</td>\n",
              "      <td>CO19</td>\n",
              "      <td>Colombia</td>\n",
              "      <td>LATIN AMERICA &amp; THE CARIBBEAN</td>\n",
              "      <td>0</td>\n",
              "      <td>1</td>\n",
              "      <td>True</td>\n",
              "      <td>2011</td>\n",
              "      <td>451 days</td>\n",
              "    </tr>\n",
              "    <tr>\n",
              "      <th>9993</th>\n",
              "      <td>514-DCA-10-002</td>\n",
              "      <td>313832</td>\n",
              "      <td>Colombia</td>\n",
              "      <td>1677</td>\n",
              "      <td>COLOMBIA - PESO</td>\n",
              "      <td>2011-03-25</td>\n",
              "      <td>2013-09-12</td>\n",
              "      <td>Agriculture</td>\n",
              "      <td>Ibague</td>\n",
              "      <td>Tolima</td>\n",
              "      <td>CO28</td>\n",
              "      <td>Colombia</td>\n",
              "      <td>LATIN AMERICA &amp; THE CARIBBEAN</td>\n",
              "      <td>1</td>\n",
              "      <td>1</td>\n",
              "      <td>True</td>\n",
              "      <td>2011</td>\n",
              "      <td>902 days</td>\n",
              "    </tr>\n",
              "    <tr>\n",
              "      <th>9994</th>\n",
              "      <td>514-DCA-10-002</td>\n",
              "      <td>313831</td>\n",
              "      <td>Colombia</td>\n",
              "      <td>1131</td>\n",
              "      <td>COLOMBIA - PESO</td>\n",
              "      <td>2011-03-25</td>\n",
              "      <td>2013-04-03</td>\n",
              "      <td>Agriculture</td>\n",
              "      <td>Ibague</td>\n",
              "      <td>Tolima</td>\n",
              "      <td>CO28</td>\n",
              "      <td>Colombia</td>\n",
              "      <td>LATIN AMERICA &amp; THE CARIBBEAN</td>\n",
              "      <td>0</td>\n",
              "      <td>1</td>\n",
              "      <td>True</td>\n",
              "      <td>2011</td>\n",
              "      <td>740 days</td>\n",
              "    </tr>\n",
              "    <tr>\n",
              "      <th>9995</th>\n",
              "      <td>514-DCA-10-002</td>\n",
              "      <td>313833</td>\n",
              "      <td>Colombia</td>\n",
              "      <td>1697</td>\n",
              "      <td>COLOMBIA - PESO</td>\n",
              "      <td>2011-03-26</td>\n",
              "      <td>2014-04-04</td>\n",
              "      <td>Agriculture</td>\n",
              "      <td>Ibague</td>\n",
              "      <td>Tolima</td>\n",
              "      <td>CO28</td>\n",
              "      <td>Colombia</td>\n",
              "      <td>LATIN AMERICA &amp; THE CARIBBEAN</td>\n",
              "      <td>0</td>\n",
              "      <td>1</td>\n",
              "      <td>True</td>\n",
              "      <td>2011</td>\n",
              "      <td>1105 days</td>\n",
              "    </tr>\n",
              "    <tr>\n",
              "      <th>9996</th>\n",
              "      <td>514-DCA-10-002</td>\n",
              "      <td>313834</td>\n",
              "      <td>Colombia</td>\n",
              "      <td>1394</td>\n",
              "      <td>COLOMBIA - PESO</td>\n",
              "      <td>2011-03-28</td>\n",
              "      <td>2013-04-06</td>\n",
              "      <td>Other Service</td>\n",
              "      <td>Ibague</td>\n",
              "      <td>Tolima</td>\n",
              "      <td>CO28</td>\n",
              "      <td>Colombia</td>\n",
              "      <td>LATIN AMERICA &amp; THE CARIBBEAN</td>\n",
              "      <td>1</td>\n",
              "      <td>1</td>\n",
              "      <td>True</td>\n",
              "      <td>2011</td>\n",
              "      <td>740 days</td>\n",
              "    </tr>\n",
              "    <tr>\n",
              "      <th>...</th>\n",
              "      <td>...</td>\n",
              "      <td>...</td>\n",
              "      <td>...</td>\n",
              "      <td>...</td>\n",
              "      <td>...</td>\n",
              "      <td>...</td>\n",
              "      <td>...</td>\n",
              "      <td>...</td>\n",
              "      <td>...</td>\n",
              "      <td>...</td>\n",
              "      <td>...</td>\n",
              "      <td>...</td>\n",
              "      <td>...</td>\n",
              "      <td>...</td>\n",
              "      <td>...</td>\n",
              "      <td>...</td>\n",
              "      <td>...</td>\n",
              "      <td>...</td>\n",
              "    </tr>\n",
              "    <tr>\n",
              "      <th>27568</th>\n",
              "      <td>514-DCA-10-002</td>\n",
              "      <td>510852</td>\n",
              "      <td>Colombia</td>\n",
              "      <td>1618</td>\n",
              "      <td>COLOMBIA - PESO</td>\n",
              "      <td>2014-10-31</td>\n",
              "      <td>2017-11-04</td>\n",
              "      <td>Trade/Commerce</td>\n",
              "      <td>Sincelejo</td>\n",
              "      <td>Sucre</td>\n",
              "      <td>CO27</td>\n",
              "      <td>Colombia</td>\n",
              "      <td>LATIN AMERICA &amp; THE CARIBBEAN</td>\n",
              "      <td>0</td>\n",
              "      <td>1</td>\n",
              "      <td>True</td>\n",
              "      <td>2014</td>\n",
              "      <td>1100 days</td>\n",
              "    </tr>\n",
              "    <tr>\n",
              "      <th>27569</th>\n",
              "      <td>514-DCA-10-002</td>\n",
              "      <td>510838</td>\n",
              "      <td>Colombia</td>\n",
              "      <td>2441</td>\n",
              "      <td>COLOMBIA - PESO</td>\n",
              "      <td>2014-10-31</td>\n",
              "      <td>2017-11-09</td>\n",
              "      <td>Manufacturing</td>\n",
              "      <td>Ibague</td>\n",
              "      <td>Tolima</td>\n",
              "      <td>CO28</td>\n",
              "      <td>Colombia</td>\n",
              "      <td>LATIN AMERICA &amp; THE CARIBBEAN</td>\n",
              "      <td>1</td>\n",
              "      <td>1</td>\n",
              "      <td>True</td>\n",
              "      <td>2014</td>\n",
              "      <td>1105 days</td>\n",
              "    </tr>\n",
              "    <tr>\n",
              "      <th>27570</th>\n",
              "      <td>514-DCA-10-002</td>\n",
              "      <td>510851</td>\n",
              "      <td>Colombia</td>\n",
              "      <td>803</td>\n",
              "      <td>COLOMBIA - PESO</td>\n",
              "      <td>2014-10-31</td>\n",
              "      <td>2016-05-10</td>\n",
              "      <td>Other Service</td>\n",
              "      <td>Sincelejo</td>\n",
              "      <td>Sucre</td>\n",
              "      <td>CO27</td>\n",
              "      <td>Colombia</td>\n",
              "      <td>LATIN AMERICA &amp; THE CARIBBEAN</td>\n",
              "      <td>0</td>\n",
              "      <td>1</td>\n",
              "      <td>True</td>\n",
              "      <td>2014</td>\n",
              "      <td>557 days</td>\n",
              "    </tr>\n",
              "    <tr>\n",
              "      <th>27571</th>\n",
              "      <td>514-DCA-10-002</td>\n",
              "      <td>510842</td>\n",
              "      <td>Colombia</td>\n",
              "      <td>3300</td>\n",
              "      <td>COLOMBIA - PESO</td>\n",
              "      <td>2014-10-31</td>\n",
              "      <td>2017-10-18</td>\n",
              "      <td>Agriculture</td>\n",
              "      <td>Caldas</td>\n",
              "      <td>Antioquia</td>\n",
              "      <td>CO02</td>\n",
              "      <td>Colombia</td>\n",
              "      <td>LATIN AMERICA &amp; THE CARIBBEAN</td>\n",
              "      <td>0</td>\n",
              "      <td>1</td>\n",
              "      <td>True</td>\n",
              "      <td>2014</td>\n",
              "      <td>1083 days</td>\n",
              "    </tr>\n",
              "    <tr>\n",
              "      <th>27572</th>\n",
              "      <td>514-DCA-10-002</td>\n",
              "      <td>510870</td>\n",
              "      <td>Colombia</td>\n",
              "      <td>2079</td>\n",
              "      <td>COLOMBIA - PESO</td>\n",
              "      <td>2014-11-01</td>\n",
              "      <td>2017-11-07</td>\n",
              "      <td>Trade/Commerce</td>\n",
              "      <td>Sincelejo</td>\n",
              "      <td>Sucre</td>\n",
              "      <td>CO27</td>\n",
              "      <td>Colombia</td>\n",
              "      <td>LATIN AMERICA &amp; THE CARIBBEAN</td>\n",
              "      <td>1</td>\n",
              "      <td>1</td>\n",
              "      <td>True</td>\n",
              "      <td>2014</td>\n",
              "      <td>1102 days</td>\n",
              "    </tr>\n",
              "  </tbody>\n",
              "</table>\n",
              "<p>17581 rows × 18 columns</p>\n",
              "</div>"
            ],
            "text/plain": [
              "      guarantee_number  transaction_report_id  ...  year  date diff\n",
              "9992    514-DCA-10-002                 313733  ...  2011   451 days\n",
              "9993    514-DCA-10-002                 313832  ...  2011   902 days\n",
              "9994    514-DCA-10-002                 313831  ...  2011   740 days\n",
              "9995    514-DCA-10-002                 313833  ...  2011  1105 days\n",
              "9996    514-DCA-10-002                 313834  ...  2011   740 days\n",
              "...                ...                    ...  ...   ...        ...\n",
              "27568   514-DCA-10-002                 510852  ...  2014  1100 days\n",
              "27569   514-DCA-10-002                 510838  ...  2014  1105 days\n",
              "27570   514-DCA-10-002                 510851  ...  2014   557 days\n",
              "27571   514-DCA-10-002                 510842  ...  2014  1083 days\n",
              "27572   514-DCA-10-002                 510870  ...  2014  1102 days\n",
              "\n",
              "[17581 rows x 18 columns]"
            ]
          },
          "metadata": {
            "tags": []
          },
          "execution_count": 165
        }
      ]
    },
    {
      "cell_type": "markdown",
      "metadata": {
        "id": "7HneMoTwE1mt",
        "colab_type": "text"
      },
      "source": [
        "# MK\n"
      ]
    },
    {
      "cell_type": "code",
      "metadata": {
        "id": "G929D8X8cOLh",
        "colab_type": "code",
        "outputId": "63845a04-f230-4f12-9995-1ef992f4e91f",
        "colab": {
          "base_uri": "https://localhost:8080/",
          "height": 34
        }
      },
      "source": [
        "#Total amount of funds received\n",
        "#\n",
        "df_n['amount_usd'].sum()"
      ],
      "execution_count": 0,
      "outputs": [
        {
          "output_type": "execute_result",
          "data": {
            "text/plain": [
              "25890843"
            ]
          },
          "metadata": {
            "tags": []
          },
          "execution_count": 166
        }
      ]
    },
    {
      "cell_type": "code",
      "metadata": {
        "id": "dbRlVT5_dV9e",
        "colab_type": "code",
        "outputId": "8e5cf95f-5343-4aa7-c62d-7ef043412ed7",
        "colab": {
          "base_uri": "https://localhost:8080/",
          "height": 34
        }
      },
      "source": [
        "#Maximum amount of loan they received \n",
        "#\n",
        "df_n['amount_usd'].max()"
      ],
      "execution_count": 0,
      "outputs": [
        {
          "output_type": "execute_result",
          "data": {
            "text/plain": [
              "19599"
            ]
          },
          "metadata": {
            "tags": []
          },
          "execution_count": 167
        }
      ]
    },
    {
      "cell_type": "code",
      "metadata": {
        "id": "IIom135UdcIa",
        "colab_type": "code",
        "outputId": "27faa300-5e12-472c-953f-3bb4cc394155",
        "colab": {
          "base_uri": "https://localhost:8080/",
          "height": 34
        }
      },
      "source": [
        "#Minimum amount of loans received\n",
        "#\n",
        "df_n['amount_usd'].min()"
      ],
      "execution_count": 0,
      "outputs": [
        {
          "output_type": "execute_result",
          "data": {
            "text/plain": [
              "239"
            ]
          },
          "metadata": {
            "tags": []
          },
          "execution_count": 168
        }
      ]
    },
    {
      "cell_type": "code",
      "metadata": {
        "id": "aSIcQN_GdhMP",
        "colab_type": "code",
        "outputId": "6f6b0563-2459-454d-808f-29bb65c3ede6",
        "colab": {
          "base_uri": "https://localhost:8080/",
          "height": 68
        }
      },
      "source": [
        "#The region\n",
        "#\n",
        "df_n.groupby(['region_name'])['region_name'].count()"
      ],
      "execution_count": 0,
      "outputs": [
        {
          "output_type": "execute_result",
          "data": {
            "text/plain": [
              "region_name\n",
              "LATIN AMERICA & THE CARIBBEAN    17581\n",
              "Name: region_name, dtype: int64"
            ]
          },
          "metadata": {
            "tags": []
          },
          "execution_count": 169
        }
      ]
    },
    {
      "cell_type": "code",
      "metadata": {
        "id": "5UqdlGG9NIDk",
        "colab_type": "code",
        "outputId": "1c7e86bc-c646-4f28-bf44-1c74cc40c59f",
        "colab": {
          "base_uri": "https://localhost:8080/",
          "height": 582
        }
      },
      "source": [
        "\n",
        "region_plot=df_n.groupby('state/province/region_name')['amount_usd'].sum().plot.bar(figsize=(10,8))\n",
        "region_plot\n"
      ],
      "execution_count": 0,
      "outputs": [
        {
          "output_type": "execute_result",
          "data": {
            "text/plain": [
              "<matplotlib.axes._subplots.AxesSubplot at 0x7f1c46d54cf8>"
            ]
          },
          "metadata": {
            "tags": []
          },
          "execution_count": 181
        },
        {
          "output_type": "display_data",
          "data": {
            "image/png": "[encoded data removed]",
            "text/plain": [
              "<Figure size 720x576 with 1 Axes>"
            ]
          },
          "metadata": {
            "tags": []
          }
        }
      ]
    },
    {
      "cell_type": "code",
      "metadata": {
        "id": "bHpd5W3hd2Le",
        "colab_type": "code",
        "outputId": "4b14e146-f06b-4ffd-ca99-27f8d1751911",
        "colab": {
          "base_uri": "https://localhost:8080/",
          "height": 204
        }
      },
      "source": [
        "#The business sectors \n",
        "#\n",
        "df_n.groupby(['business_sector'])['business_sector'].count().sort_values(ascending = False)"
      ],
      "execution_count": 0,
      "outputs": [
        {
          "output_type": "execute_result",
          "data": {
            "text/plain": [
              "business_sector\n",
              "Agriculture              10537\n",
              "Other Service             5033\n",
              "Trade/Commerce            1386\n",
              "Fisheries/Aquaculture      503\n",
              "Manufacturing               95\n",
              "Forestry/Wood               14\n",
              "Construction                10\n",
              "Transportation               2\n",
              "Energy                       1\n",
              "Name: business_sector, dtype: int64"
            ]
          },
          "metadata": {
            "tags": []
          },
          "execution_count": 171
        }
      ]
    },
    {
      "cell_type": "code",
      "metadata": {
        "id": "y8gmdc8MC_hz",
        "colab_type": "code",
        "outputId": "d28fae57-bf09-4566-f6b6-490d010d278e",
        "colab": {
          "base_uri": "https://localhost:8080/",
          "height": 526
        }
      },
      "source": [
        "sector_plot=df_n.groupby('business_sector')['amount_usd'].sum().plot(figsize=(10,8))\n",
        "sector_plot"
      ],
      "execution_count": 0,
      "outputs": [
        {
          "output_type": "execute_result",
          "data": {
            "text/plain": [
              "<matplotlib.axes._subplots.AxesSubplot at 0x7f1c46d3b630>"
            ]
          },
          "metadata": {
            "tags": []
          },
          "execution_count": 180
        },
        {
          "output_type": "display_data",
          "data": {
            "image/png": "[encoded data removed]",
            "text/plain": [
              "<Figure size 720x576 with 1 Axes>"
            ]
          },
          "metadata": {
            "tags": []
          }
        }
      ]
    },
    {
      "cell_type": "markdown",
      "metadata": {
        "id": "A7Bo5TjvFWOR",
        "colab_type": "text"
      },
      "source": [
        "# KINYA"
      ]
    },
    {
      "cell_type": "code",
      "metadata": {
        "id": "nHXwvtiUeN5n",
        "colab_type": "code",
        "outputId": "b797c730-9e42-49a8-9579-bb13bbd8111f",
        "colab": {
          "base_uri": "https://localhost:8080/",
          "height": 86
        }
      },
      "source": [
        "#First time borrower or not?\n",
        "#\n",
        "df_n.groupby(['is_first_time_borrower?'])['is_first_time_borrower?'].count().sort_values(ascending = False)"
      ],
      "execution_count": 0,
      "outputs": [
        {
          "output_type": "execute_result",
          "data": {
            "text/plain": [
              "is_first_time_borrower?\n",
              "1.0    17563\n",
              "0.0       18\n",
              "Name: is_first_time_borrower?, dtype: int64"
            ]
          },
          "metadata": {
            "tags": []
          },
          "execution_count": 72
        }
      ]
    },
    {
      "cell_type": "code",
      "metadata": {
        "id": "ovnUhGHCequ1",
        "colab_type": "code",
        "outputId": "8cff7d72-934f-4f44-c963-3de58b10cd3a",
        "colab": {
          "base_uri": "https://localhost:8080/",
          "height": 85
        }
      },
      "source": [
        "#Woman owned or not?\n",
        "#\n",
        "df_n.groupby(['is_woman_owned?'])['is_woman_owned?'].count().sort_values(ascending = False)"
      ],
      "execution_count": 0,
      "outputs": [
        {
          "output_type": "execute_result",
          "data": {
            "text/plain": [
              "is_woman_owned?\n",
              "0    10418\n",
              "1     7163\n",
              "Name: is_woman_owned?, dtype: int64"
            ]
          },
          "metadata": {
            "tags": []
          },
          "execution_count": 172
        }
      ]
    },
    {
      "cell_type": "code",
      "metadata": {
        "id": "JfsNhBTde-Bi",
        "colab_type": "code",
        "colab": {}
      },
      "source": [
        "#Disbursment period\n",
        "#\n",
        "df_n['duration'] = (pd.to_datetime(df_n.end_date) - pd.to_datetime(df_n.disbursement_date)) \n"
      ],
      "execution_count": 0,
      "outputs": []
    },
    {
      "cell_type": "code",
      "metadata": {
        "id": "-hdFPm0gmGN0",
        "colab_type": "code",
        "outputId": "979609a9-f39d-41b9-a72b-5505d912e874",
        "colab": {
          "base_uri": "https://localhost:8080/",
          "height": 34
        }
      },
      "source": [
        "#Max disbursement period \n",
        "#\n",
        "df_n['duration'].max()"
      ],
      "execution_count": 0,
      "outputs": [
        {
          "output_type": "execute_result",
          "data": {
            "text/plain": [
              "Timedelta('1896 days 00:00:00')"
            ]
          },
          "metadata": {
            "tags": []
          },
          "execution_count": 174
        }
      ]
    },
    {
      "cell_type": "code",
      "metadata": {
        "id": "wWtjLo8sgNcM",
        "colab_type": "code",
        "outputId": "2026ca84-28e2-4956-9f9b-d60d7083c992",
        "colab": {
          "base_uri": "https://localhost:8080/",
          "height": 34
        }
      },
      "source": [
        "#Minimum period of disbursement\n",
        "#\n",
        "df_n['duration'].min()"
      ],
      "execution_count": 0,
      "outputs": [
        {
          "output_type": "execute_result",
          "data": {
            "text/plain": [
              "Timedelta('3 days 00:00:00')"
            ]
          },
          "metadata": {
            "tags": []
          },
          "execution_count": 175
        }
      ]
    },
    {
      "cell_type": "code",
      "metadata": {
        "id": "rNMvkUL3hdK3",
        "colab_type": "code",
        "outputId": "0ba5b472-f44d-4b6b-a933-a8b3ce0dd8a7",
        "colab": {
          "base_uri": "https://localhost:8080/",
          "height": 34
        }
      },
      "source": [
        "#Average duration of disbursement\n",
        "df_n['duration'].mean()"
      ],
      "execution_count": 0,
      "outputs": [
        {
          "output_type": "execute_result",
          "data": {
            "text/plain": [
              "Timedelta('712 days 17:56:00.423184')"
            ]
          },
          "metadata": {
            "tags": []
          },
          "execution_count": 176
        }
      ]
    }
  ]
}